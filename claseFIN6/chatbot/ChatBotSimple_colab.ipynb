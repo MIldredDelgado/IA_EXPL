{
  "cells": [
    {
      "cell_type": "markdown",
      "id": "0d5fc6ae-9add-44a1-8290-f7f9f22c6452",
      "metadata": {
        "id": "0d5fc6ae-9add-44a1-8290-f7f9f22c6452"
      },
      "source": [
        "## Creación de chatbot"
      ]
    },
    {
      "cell_type": "code",
      "execution_count": 1,
      "id": "68c34bdc-2718-4dbd-bca1-a36017ad9978",
      "metadata": {
        "colab": {
          "base_uri": "https://localhost:8080/"
        },
        "id": "68c34bdc-2718-4dbd-bca1-a36017ad9978",
        "outputId": "620acc4e-5594-41ea-da81-211614cc82d5"
      },
      "outputs": [
        {
          "output_type": "stream",
          "name": "stderr",
          "text": [
            "[nltk_data] Downloading package punkt to /root/nltk_data...\n",
            "[nltk_data]   Unzipping tokenizers/punkt.zip.\n",
            "[nltk_data] Downloading package stopwords to /root/nltk_data...\n",
            "[nltk_data]   Unzipping corpora/stopwords.zip.\n",
            "[nltk_data] Downloading package wordnet to /root/nltk_data...\n",
            "[nltk_data] Downloading package punkt_tab to /root/nltk_data...\n",
            "[nltk_data]   Unzipping tokenizers/punkt_tab.zip.\n"
          ]
        },
        {
          "output_type": "execute_result",
          "data": {
            "text/plain": [
              "True"
            ]
          },
          "metadata": {},
          "execution_count": 1
        }
      ],
      "source": [
        "# Paso 1: Importar librerías necesarias\n",
        "import nltk\n",
        "import tkinter as tk\n",
        "from tkinter import scrolledtext\n",
        "from nltk.stem import WordNetLemmatizer\n",
        "import random\n",
        "\n",
        "# Descargar recursos de NLTK\n",
        "nltk.download('punkt')\n",
        "nltk.download('stopwords')\n",
        "nltk.download('wordnet')\n",
        "nltk.download('punkt_tab')"
      ]
    },
    {
      "cell_type": "markdown",
      "id": "9a884c4c-0ea4-4ff7-b7a7-23d21e6864c4",
      "metadata": {
        "id": "9a884c4c-0ea4-4ff7-b7a7-23d21e6864c4"
      },
      "source": [
        "## Técnica usada\n",
        "### 🔍 ¿Qué es Pattern Matching?\n",
        "**Pattern Matching (en español: coincidencia de patrones) es una técnica muy sencilla usada en programación y procesamiento de lenguaje natural (NLP) para buscar coincidencias entre lo que escribe el usuario y ciertos patrones predefinidos, como palabras clave o frases.**"
      ]
    },
    {
      "cell_type": "code",
      "execution_count": 2,
      "id": "86fa49ac-8453-44de-9668-4ddefc8b9a25",
      "metadata": {
        "id": "86fa49ac-8453-44de-9668-4ddefc8b9a25"
      },
      "outputs": [],
      "source": [
        "# =======================\n",
        "# Chatbot simple con NLTK\n",
        "# =======================\n",
        "\n",
        "# Paso 2: Inicializar el lematizador\n",
        "lemmatizer = WordNetLemmatizer()\n",
        "\n",
        "# Paso 3: Diccionario de respuestas por intención\n",
        "respuestas = {\n",
        "    \"saludo\": [\"¡Hola! ¿Cómo estás?\", \"¡Hola! ¿En qué te puedo ayudar?\"],\n",
        "    \"despedida\": [\"¡Hasta luego!\", \"Chao, que estés bien.\"],\n",
        "    \"agradecimiento\": [\"¡De nada!\", \"Con gusto 😊\"],\n",
        "    \"estado\": [\"Estoy bien, gracias ponr preguntar.\"]\n",
        "}\n",
        "\n",
        "# Paso 4: Palabras clave asociadas a cada intención\n",
        "intenciones = {\n",
        "    \"saludo\": [\"hola\", \"buenas\", \"hey\"],\n",
        "    \"despedida\": [\"adios\", \"chao\", \"hasta luego\"],\n",
        "    \"agradecimiento\": [\"gracias\", \"gracias parcero\"],\n",
        "    \"estado\": [\"cómo estas\", \"que tal\", \"como te va\"]\n",
        "}\n",
        "\n",
        "# Paso 5: Función para identificar la intención del mensaje del usuario\n",
        "def obtener_intencion(texto):\n",
        "    tokens = nltk.word_tokenize(texto)  # Tokeniza\n",
        "    tokens_normalized = [token.lower() for token in tokens]  # y pasa a minúsculas\n",
        "    frase = \" \".join(tokens_normalized)  # Une en una sola cadena\n",
        "    print(frase)\n",
        "\n",
        "    for intencion, palabras in intenciones.items():\n",
        "      for palabra in palabras:\n",
        "        if palabra in frase:\n",
        "            return intencion\n",
        "\n",
        "            #print(palabra)\n",
        "           # print(\"_________________________________\")\n",
        "\n",
        "\n",
        "    return None  # Si no encuentra coincidencias\n",
        "\n",
        "#\n"
      ]
    },
    {
      "cell_type": "code",
      "source": [
        "# Paso 6: Función para procesar la entrada del usuario y mostrar la respuesta\n",
        "def responder(entrada_usuario):\n",
        "    intencion = obtener_intencion(entrada_usuario)  # Detectar intención\n",
        "    if intencion:\n",
        "        respuesta = random.choice(respuestas[intencion]) # Selecciona una respuesta del grupo\n",
        "    else:\n",
        "        respuesta = \"Lo siento, no entendí eso.\"  # Mensaje por defecto\n",
        "    return respuesta\n",
        "\n",
        "# Paso 7: Implementar la interfaz de línea de comandos\n",
        "print(\"ChatBot Simple con NLTK (Escribe 'salir' para terminar)\")\n",
        "\n",
        "while True:\n",
        "    entrada_usuario = input(\"Tú: \")\n",
        "    if entrada_usuario.lower() == 'salir':\n",
        "        break\n",
        "    respuesta_bot = responder(entrada_usuario)\n",
        "    print(f\"Bot: {respuesta_bot}\\n\")"
      ],
      "metadata": {
        "colab": {
          "base_uri": "https://localhost:8080/"
        },
        "id": "hNqGcs6EzJ2k",
        "outputId": "073e3924-a3fb-492c-ba18-1f78bd648513"
      },
      "id": "hNqGcs6EzJ2k",
      "execution_count": 3,
      "outputs": [
        {
          "name": "stdout",
          "output_type": "stream",
          "text": [
            "ChatBot Simple con NLTK (Escribe 'salir' para terminar)\n",
            "Tú: hola\n",
            "hola\n",
            "Bot: ¡Hola! ¿Cómo estás?\n",
            "\n",
            "Tú: parcero\n",
            "parcero\n",
            "Bot: Lo siento, no entendí eso.\n",
            "\n",
            "Tú: gracias\n",
            "gracias\n",
            "Bot: Con gusto 😊\n",
            "\n",
            "Tú: gato y érro\n",
            "gato y érro\n",
            "Bot: Lo siento, no entendí eso.\n",
            "\n",
            "Tú: salir\n"
          ]
        }
      ]
    }
  ],
  "metadata": {
    "kernelspec": {
      "display_name": "Python 3 (ipykernel)",
      "language": "python",
      "name": "python3"
    },
    "language_info": {
      "codemirror_mode": {
        "name": "ipython",
        "version": 3
      },
      "file_extension": ".py",
      "mimetype": "text/x-python",
      "name": "python",
      "nbconvert_exporter": "python",
      "pygments_lexer": "ipython3",
      "version": "3.12.9"
    },
    "colab": {
      "provenance": []
    }
  },
  "nbformat": 4,
  "nbformat_minor": 5
}