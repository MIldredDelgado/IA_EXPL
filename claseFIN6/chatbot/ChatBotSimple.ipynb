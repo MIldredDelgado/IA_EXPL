{
 "cells": [
  {
   "cell_type": "markdown",
   "id": "0d5fc6ae-9add-44a1-8290-f7f9f22c6452",
   "metadata": {},
   "source": [
    "## Creación de chatbot"
   ]
  },
  {
   "cell_type": "code",
   "execution_count": 1,
   "id": "68c34bdc-2718-4dbd-bca1-a36017ad9978",
   "metadata": {},
   "outputs": [
    {
     "name": "stderr",
     "output_type": "stream",
     "text": [
      "[nltk_data] Downloading package punkt to\n",
      "[nltk_data]     C:\\Users\\darly\\AppData\\Roaming\\nltk_data...\n",
      "[nltk_data]   Package punkt is already up-to-date!\n",
      "[nltk_data] Downloading package stopwords to\n",
      "[nltk_data]     C:\\Users\\darly\\AppData\\Roaming\\nltk_data...\n",
      "[nltk_data]   Package stopwords is already up-to-date!\n",
      "[nltk_data] Downloading package wordnet to\n",
      "[nltk_data]     C:\\Users\\darly\\AppData\\Roaming\\nltk_data...\n",
      "[nltk_data]   Package wordnet is already up-to-date!\n",
      "[nltk_data] Downloading package punkt_tab to\n",
      "[nltk_data]     C:\\Users\\darly\\AppData\\Roaming\\nltk_data...\n",
      "[nltk_data]   Package punkt_tab is already up-to-date!\n"
     ]
    },
    {
     "data": {
      "text/plain": [
       "True"
      ]
     },
     "execution_count": 1,
     "metadata": {},
     "output_type": "execute_result"
    }
   ],
   "source": [
    "# Paso 1: Importar librerías necesarias\n",
    "import nltk\n",
    "import tkinter as tk\n",
    "from tkinter import scrolledtext\n",
    "from nltk.stem import WordNetLemmatizer\n",
    "import random\n",
    "\n",
    "# Descargar recursos de NLTK\n",
    "nltk.download('punkt')\n",
    "nltk.download('stopwords')\n",
    "nltk.download('wordnet')\n",
    "nltk.download('punkt_tab')"
   ]
  },
  {
   "cell_type": "markdown",
   "id": "9a884c4c-0ea4-4ff7-b7a7-23d21e6864c4",
   "metadata": {},
   "source": [
    "## Técnica usada\n",
    "### 🔍 ¿Qué es Pattern Matching?\n",
    "**Pattern Matching (en español: coincidencia de patrones) es una técnica muy sencilla usada en programación y procesamiento de lenguaje natural (NLP) para buscar coincidencias entre lo que escribe el usuario y ciertos patrones predefinidos, como palabras clave o frases.**"
   ]
  },
  {
   "cell_type": "code",
   "execution_count": null,
   "id": "86fa49ac-8453-44de-9668-4ddefc8b9a25",
   "metadata": {},
   "outputs": [
    {
     "name": "stdout",
     "output_type": "stream",
     "text": [
      "como estas ?\n",
      "hola\n",
      "_________________________________\n",
      "buenas\n",
      "_________________________________\n",
      "hey\n",
      "_________________________________\n",
      "adios\n",
      "_________________________________\n",
      "chao\n",
      "_________________________________\n",
      "hasta luego\n",
      "_________________________________\n",
      "gracias\n",
      "_________________________________\n",
      "cómo estas\n",
      "_________________________________\n",
      "que tal\n",
      "_________________________________\n",
      "como te va\n",
      "_________________________________\n"
     ]
    }
   ],
   "source": [
    "# =======================\n",
    "# Chatbot simple con NLTK\n",
    "# =======================\n",
    "\n",
    "# Paso 2: Inicializar el lematizador\n",
    "lemmatizer = WordNetLemmatizer()\n",
    "\n",
    "# Paso 3: Diccionario de respuestas por intención\n",
    "respuestas = {\n",
    "    \"saludo\": [\"¡Hola! ¿Cómo estás?\", \"¡Hola! ¿En qué te puedo ayudar?\"],\n",
    "    \"despedida\": [\"¡Hasta luego!\", \"Chao, que estés bien.\"],\n",
    "    \"agradecimieto\": [\"¡De nada!\", \"Con gusto 😊\"],\n",
    "    \"estado\": [\"Estoy bien, gracias ponr preguntar.\"]\n",
    "}\n",
    "\n",
    "# Paso 4: Palabras clave asociadas a cada intención\n",
    "intenciones = {\n",
    "    \"saludo\": [\"hola\", \"buenas\", \"hey\"],\n",
    "    \"despedida\": [\"adios\", \"chao\", \"hasta luego\"],\n",
    "    \"agradecimiento\": [\"gracias\"],\n",
    "    \"estado\": [\"cómo estas\", \"que tal\", \"como te va\"]\n",
    "}\n",
    "\n",
    "# Paso 5: Función para identificar la intención del mensaje del usuario\n",
    "def obtener_intencion(texto):\n",
    "    tokens = nltk.word_tokenize(texto)  # Tokeniza\n",
    "    tokens_normalized = [token.lower() for token in tokens]  # y pasa a minúsculas\n",
    "    frase = \" \".join(tokens_normalized)  # Une en una sola cadena\n",
    "    print(frase)\n",
    "\n",
    "    for intencion, palabras in intenciones.items():\n",
    "        for palabra in palabras:\n",
    "            print(palabra)\n",
    "            print(\"_________________________________\")\n",
    "            if palabra in frase:\n",
    "                return intencion\n",
    "    return None  # Si no encuentra coincidencias\n",
    "\n",
    "# Paso 6: Función para procesar la entrada del usuario y mostrar la respuesta\n",
    "def responder():\n",
    "    entrada_usuario = entrada.get()  # Obtener texto ingresado\n",
    "    entrada.delete(0, tk.END)  # Limpiar campo de entrada\n",
    "    chat.insert(tk.END, f\"Tú: {entrada_usuario}\\n\")  # Mostrar lo que escribió el usuario\n",
    "    intencion = obtener_intencion(entrada_usuario)  # Detectar intención\n",
    "    if intencion:\n",
    "        respuesta = random.choice(respuestas[intencion]) # Selecciona la primera respuesta del grupo\n",
    "    else:\n",
    "        respuesta = \"Lo siento, no entendí eso.\"  # Mensaje por defecto\n",
    "    chat.insert(tk.END, f\"Bot: {respuesta}\\n\\n\")  # Mostrar respuesta del bot\n",
    "\n",
    "# Paso 7: Crear la interfaz gráfica\n",
    "ventana = tk.Tk()\n",
    "ventana.title(\"ChatBot Simple con NLTK\")\n",
    "ventana.geometry(\"500x400\")\n",
    "\n",
    "# Área de texto para mostrar la conversación\n",
    "chat = scrolledtext.ScrolledText(ventana, width=60, height=20, state='normal')\n",
    "chat.pack(pady=10)\n",
    "\n",
    "# Campo de entrada de texto del usuario\n",
    "entrada = tk.Entry(ventana, width=50)\n",
    "entrada.pack(pady=5)\n",
    "\n",
    "# Botón para enviar mensaje\n",
    "boton = tk.Button(ventana, text=\"Enviar\", command=responder)\n",
    "boton.pack()\n",
    "\n",
    "\n",
    "# Iniciar el bucle de la interfaz\n",
    "ventana.mainloop()\n"
   ]
  },
  {
   "cell_type": "code",
   "execution_count": null,
   "id": "0868ffbf-676f-4553-94e9-deb8c24095b0",
   "metadata": {},
   "outputs": [],
   "source": []
  }
 ],
 "metadata": {
  "kernelspec": {
   "display_name": "Python 3 (ipykernel)",
   "language": "python",
   "name": "python3"
  },
  "language_info": {
   "codemirror_mode": {
    "name": "ipython",
    "version": 3
   },
   "file_extension": ".py",
   "mimetype": "text/x-python",
   "name": "python",
   "nbconvert_exporter": "python",
   "pygments_lexer": "ipython3",
   "version": "3.12.9"
  }
 },
 "nbformat": 4,
 "nbformat_minor": 5
}
