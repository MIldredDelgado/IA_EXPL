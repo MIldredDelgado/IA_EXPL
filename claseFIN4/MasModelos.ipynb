{
 "cells": [
  {
   "cell_type": "markdown",
   "id": "4005e8fb-1e13-4997-8cc8-269199f0e97f",
   "metadata": {},
   "source": [
    "# 1. Importar librerias"
   ]
  },
  {
   "cell_type": "code",
   "execution_count": 145,
   "id": "1f238a40-4f7d-4e86-a3ba-8302ce705d12",
   "metadata": {},
   "outputs": [],
   "source": [
    "#datos\n",
    "import pandas as pd \n",
    "import numpy as np\n",
    "\n",
    "#librerias para modelos de machine learning\n",
    "from sklearn.model_selection import train_test_split   #divide la data en entrenamiento y prueba\n",
    "from sklearn.metrics import mean_squared_error, r2_score, mean_absolute_error # metricas del modelo\n",
    "from sklearn.ensemble import RandomForestRegressor\n",
    "from sklearn.linear_model import LinearRegression \n",
    "from sklearn.tree import DecisionTreeRegressor, plot_tree\n",
    "\n",
    "# almacenar modelos\n",
    "import joblib"
   ]
  },
  {
   "cell_type": "markdown",
   "id": "9f7dd4e1-f29d-41be-b440-d78de547b793",
   "metadata": {},
   "source": [
    "# 2. Data"
   ]
  },
  {
   "cell_type": "markdown",
   "id": "53d385b3-8f06-43dc-b851-244d78ef50f2",
   "metadata": {},
   "source": [
    "### 2.1 abrir data"
   ]
  },
  {
   "cell_type": "code",
   "execution_count": 198,
   "id": "1d2745bf-0fe0-4b17-a560-2e40a28039bf",
   "metadata": {},
   "outputs": [],
   "source": [
    "data_real= pd.read_csv(r\"C:\\Users\\darly\\OneDrive\\Escritorio\\IA_explorer2\\dataSet\\ds_salaries.csv\")\n",
    "data_2= pd.read_csv(r\"C:\\Users\\darly\\OneDrive\\Escritorio\\IA_explorer2\\dataSet\\data_preprocesada_2.csv\")\n"
   ]
  },
  {
   "cell_type": "markdown",
   "id": "0631ef75-6a79-413b-84bd-9bfc10188853",
   "metadata": {},
   "source": [
    "### 2.2 Preprocesar data"
   ]
  },
  {
   "cell_type": "code",
   "execution_count": 204,
   "id": "5ac56404-4155-4c4a-8e15-249e08992f0a",
   "metadata": {},
   "outputs": [
    {
     "data": {
      "text/plain": [
       "(607, 202)"
      ]
     },
     "execution_count": 204,
     "metadata": {},
     "output_type": "execute_result"
    }
   ],
   "source": [
    "dummies_currency = pd.get_dummies(df[\"salary_currency\"], prefix=\"salary_currency\", drop_first=True).astype(int)\n",
    "dummies_employ_residence = pd.get_dummies(df[\"employee_residence\"], prefix=\"employ_residence\", drop_first=True).astype(int)\n",
    "\n",
    "data_2 = pd.concat([data_2, dummies_currency,dumiees_employ_residence], axis=1)\n",
    "data_2.shape"
   ]
  },
  {
   "cell_type": "markdown",
   "id": "ddb21dc0-ee66-4b60-8213-7ad50b98c943",
   "metadata": {},
   "source": [
    "# 3. Seleccionar y partir data"
   ]
  },
  {
   "cell_type": "code",
   "execution_count": 200,
   "id": "fd370266-434e-4d88-af57-2e33ef55171a",
   "metadata": {},
   "outputs": [],
   "source": [
    "# Seleccionar la variable independiente (X) y la dependiente (y)\n",
    "X = data_2.drop(columns=['salary_in_usd'])\n",
    "y = data_2['salary_in_usd']\n",
    "# random_state se usa para fijar la semilla del generador aleatorio, asegurando que los resultados sean reproducibles.\n",
    "X_train, X_test, y_train, y_test = train_test_split(X, y, test_size=0.2, random_state=42)\n"
   ]
  },
  {
   "cell_type": "markdown",
   "id": "cc7f1311-c3cc-45a7-9afb-9e644d31596f",
   "metadata": {},
   "source": [
    "# 4. Aplicar modelos"
   ]
  },
  {
   "cell_type": "markdown",
   "id": "29bcd03f-563e-44a1-abaf-021db0d85ff8",
   "metadata": {},
   "source": [
    "### 4.1 Árboles de decisión regresores"
   ]
  },
  {
   "cell_type": "code",
   "execution_count": 201,
   "id": "94ad5758-0a1d-4fe3-afd5-a7c1f2ac3516",
   "metadata": {
    "scrolled": true
   },
   "outputs": [
    {
     "name": "stdout",
     "output_type": "stream",
     "text": [
      "R²: 0.4667141516516754\n",
      "MAE: 32089.943960092725\n",
      "RMSE: 45209.01353364731\n",
      "STD: 62163.038069299255\n"
     ]
    }
   ],
   "source": [
    "modelo_arbol = DecisionTreeRegressor(random_state=42)\n",
    "modelo_arbol.fit(X_train, y_train)\n",
    "# Predecir\n",
    "y_pred_arbol = modelo_arbol.predict(X_test)\n",
    "# Evaluar\n",
    "r2_arbol = r2_score(y_test, y_pred_arbol)\n",
    "mse_arbol = mean_absolute_error(y_test, y_pred_arbol)\n",
    "rmse_arbol = np.sqrt(mean_squared_error(y_test, y_pred_arbol))\n",
    "# Calcular la desviación estándar de y_test\n",
    "std_y_test1= y_test.std()\n",
    "print(\"R²:\", r2_arbol)\n",
    "print(\"MAE:\", mse_arbol)\n",
    "print(\"RMSE:\", rmse_arbol)\n",
    "print(\"STD:\", std_y_test) #ser mas peque RMSE"
   ]
  },
  {
   "cell_type": "markdown",
   "id": "298c8138-2c4e-480d-85f4-1ae5325963f1",
   "metadata": {},
   "source": [
    "### 4.2 Random Forest regresores"
   ]
  },
  {
   "cell_type": "code",
   "execution_count": 202,
   "id": "9cf5e5b1-88df-42f6-a787-6356b419d092",
   "metadata": {},
   "outputs": [
    {
     "name": "stdout",
     "output_type": "stream",
     "text": [
      "            Modelo           MSE        R²\n",
      "0  Random forest 1  1.794979e+09  0.531651\n"
     ]
    }
   ],
   "source": [
    "#la data final con outliner\n",
    "modelo_rf = RandomForestRegressor(n_estimators=50, max_depth=5,random_state=42) \n",
    "\n",
    "modelo_rf.fit(X_train, y_train)\n",
    "\n",
    "# Hacer predicciones\n",
    "y_pred_rf = modelo_rf.predict(X_test)\n",
    "\n",
    "# Evaluar modelos\n",
    "mse_rf = mean_squared_error(y_test, y_pred_rf)\n",
    "r2_rf = r2_score(y_test, y_pred_rf)\n",
    "\n",
    "# Comparación de modelos\n",
    "comparacion_modelos = pd.DataFrame({\n",
    "    \"Modelo\": [\"Random forest 1\"],\n",
    "    \"MSE\": [mse_rf],\n",
    "    \"R²\": [r2_rf]\n",
    "})\n",
    "\n",
    "# Mostrar comparación\n",
    "print(comparacion_modelos)"
   ]
  },
  {
   "cell_type": "code",
   "execution_count": null,
   "id": "035e3fe0-2be0-4059-b545-366eccd60e24",
   "metadata": {},
   "outputs": [],
   "source": []
  }
 ],
 "metadata": {
  "kernelspec": {
   "display_name": "Python 3 (ipykernel)",
   "language": "python",
   "name": "python3"
  },
  "language_info": {
   "codemirror_mode": {
    "name": "ipython",
    "version": 3
   },
   "file_extension": ".py",
   "mimetype": "text/x-python",
   "name": "python",
   "nbconvert_exporter": "python",
   "pygments_lexer": "ipython3",
   "version": "3.12.9"
  }
 },
 "nbformat": 4,
 "nbformat_minor": 5
}
