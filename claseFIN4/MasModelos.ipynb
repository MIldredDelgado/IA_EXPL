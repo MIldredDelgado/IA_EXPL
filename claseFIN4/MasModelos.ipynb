{
  "cells": [
    {
      "cell_type": "markdown",
      "id": "4005e8fb-1e13-4997-8cc8-269199f0e97f",
      "metadata": {
        "id": "4005e8fb-1e13-4997-8cc8-269199f0e97f"
      },
      "source": [
        "# 1. Importar librerias"
      ]
    },
    {
      "cell_type": "code",
      "execution_count": 3,
      "id": "1f238a40-4f7d-4e86-a3ba-8302ce705d12",
      "metadata": {
        "colab": {
          "base_uri": "https://localhost:8080/"
        },
        "id": "1f238a40-4f7d-4e86-a3ba-8302ce705d12",
        "outputId": "7dda98c0-9182-43fb-9656-f5bbb387dc0a"
      },
      "outputs": [
        {
          "output_type": "stream",
          "name": "stdout",
          "text": [
            "Mounted at /content/drive\n"
          ]
        }
      ],
      "source": [
        "#datos\n",
        "import pandas as pd\n",
        "import numpy as np\n",
        "\n",
        "#librerias para modelos de machine learning\n",
        "from sklearn.model_selection import train_test_split   #divide la data en entrenamiento y prueba\n",
        "from sklearn.metrics import mean_squared_error, r2_score, mean_absolute_error # metricas del modelo\n",
        "from sklearn.ensemble import RandomForestRegressor\n",
        "from sklearn.tree import DecisionTreeRegressor, plot_tree\n",
        "\n",
        "#conectar con drive\n",
        "from google.colab import drive\n",
        "drive.mount('/content/drive')\n",
        "\n"
      ]
    },
    {
      "cell_type": "markdown",
      "id": "9f7dd4e1-f29d-41be-b440-d78de547b793",
      "metadata": {
        "id": "9f7dd4e1-f29d-41be-b440-d78de547b793"
      },
      "source": [
        "# 2. Data"
      ]
    },
    {
      "cell_type": "markdown",
      "id": "53d385b3-8f06-43dc-b851-244d78ef50f2",
      "metadata": {
        "id": "53d385b3-8f06-43dc-b851-244d78ef50f2"
      },
      "source": [
        "### 2.1 abrir data"
      ]
    },
    {
      "cell_type": "code",
      "execution_count": 8,
      "id": "1d2745bf-0fe0-4b17-a560-2e40a28039bf",
      "metadata": {
        "id": "1d2745bf-0fe0-4b17-a560-2e40a28039bf"
      },
      "outputs": [],
      "source": [
        "data_real= pd.read_csv(\"/content/drive/MyDrive/CODIGOS _ia/ds_salaries.csv\")\n",
        "data_2= pd.read_csv(\"/content/drive/MyDrive/CODIGOS _ia/dataPreprocesada2_salaries.csv\")\n"
      ]
    },
    {
      "cell_type": "code",
      "source": [
        "data_real.columns"
      ],
      "metadata": {
        "colab": {
          "base_uri": "https://localhost:8080/"
        },
        "id": "mqR9r58VFOrq",
        "outputId": "e1593feb-1fc9-49c2-847e-33f7b9b672d6"
      },
      "id": "mqR9r58VFOrq",
      "execution_count": 9,
      "outputs": [
        {
          "output_type": "execute_result",
          "data": {
            "text/plain": [
              "Index(['Unnamed: 0', 'work_year', 'experience_level', 'employment_type',\n",
              "       'job_title', 'salary', 'salary_currency', 'salary_in_usd',\n",
              "       'employee_residence', 'remote_ratio', 'company_location',\n",
              "       'company_size'],\n",
              "      dtype='object')"
            ]
          },
          "metadata": {},
          "execution_count": 9
        }
      ]
    },
    {
      "cell_type": "code",
      "source": [
        "data_2.columns"
      ],
      "metadata": {
        "colab": {
          "base_uri": "https://localhost:8080/"
        },
        "id": "1HE5PfyqFTaQ",
        "outputId": "b01e8a5e-bdda-4e9e-d963-2da27843f240"
      },
      "id": "1HE5PfyqFTaQ",
      "execution_count": 10,
      "outputs": [
        {
          "output_type": "execute_result",
          "data": {
            "text/plain": [
              "Index(['salary_in_usd', 'remote_ratio', 'remote_ratio_bin',\n",
              "       'experience_level_tr', 'company_size_M', 'company_size_S', 'work_year',\n",
              "       'employment_FL', 'employment_FT', 'employment_PT',\n",
              "       'company_location_AS', 'company_location_AT', 'company_location_AU',\n",
              "       'company_location_BE', 'company_location_BR', 'company_location_CA',\n",
              "       'company_location_CH', 'company_location_CL', 'company_location_CN',\n",
              "       'company_location_CO', 'company_location_CZ', 'company_location_DE',\n",
              "       'company_location_DK', 'company_location_DZ', 'company_location_EE',\n",
              "       'company_location_ES', 'company_location_FR', 'company_location_GB',\n",
              "       'company_location_GR', 'company_location_HN', 'company_location_HR',\n",
              "       'company_location_HU', 'company_location_IE', 'company_location_IL',\n",
              "       'company_location_IN', 'company_location_IQ', 'company_location_IR',\n",
              "       'company_location_IT', 'company_location_JP', 'company_location_KE',\n",
              "       'company_location_LU', 'company_location_MD', 'company_location_MT',\n",
              "       'company_location_MX', 'company_location_MY', 'company_location_NG',\n",
              "       'company_location_NL', 'company_location_NZ', 'company_location_PK',\n",
              "       'company_location_PL', 'company_location_PT', 'company_location_RO',\n",
              "       'company_location_RU', 'company_location_SG', 'company_location_SI',\n",
              "       'company_location_TR', 'company_location_UA', 'company_location_US',\n",
              "       'company_location_VN'],\n",
              "      dtype='object')"
            ]
          },
          "metadata": {},
          "execution_count": 10
        }
      ]
    },
    {
      "cell_type": "markdown",
      "id": "0631ef75-6a79-413b-84bd-9bfc10188853",
      "metadata": {
        "id": "0631ef75-6a79-413b-84bd-9bfc10188853"
      },
      "source": [
        "### 2.2 Preprocesar data"
      ]
    },
    {
      "cell_type": "code",
      "execution_count": 13,
      "id": "5ac56404-4155-4c4a-8e15-249e08992f0a",
      "metadata": {
        "colab": {
          "base_uri": "https://localhost:8080/"
        },
        "id": "5ac56404-4155-4c4a-8e15-249e08992f0a",
        "outputId": "a4f89c8c-aad1-418a-bdc0-f1d6d329688b"
      },
      "outputs": [
        {
          "output_type": "execute_result",
          "data": {
            "text/plain": [
              "(607, 275)"
            ]
          },
          "metadata": {},
          "execution_count": 13
        }
      ],
      "source": [
        "dummies_currency = pd.get_dummies(data_real[\"salary_currency\"], prefix=\"salary_currency\", drop_first=True).astype(int)\n",
        "dummies_employ_residence = pd.get_dummies(data_real[\"employee_residence\"], prefix=\"employ_residence\", drop_first=True).astype(int)\n",
        "\n",
        "data_2 = pd.concat([data_2, dummies_currency,dummies_employ_residence], axis=1)\n",
        "data_2.shape"
      ]
    },
    {
      "cell_type": "markdown",
      "id": "ddb21dc0-ee66-4b60-8213-7ad50b98c943",
      "metadata": {
        "id": "ddb21dc0-ee66-4b60-8213-7ad50b98c943"
      },
      "source": [
        "# 3. Seleccionar y partir data"
      ]
    },
    {
      "cell_type": "code",
      "execution_count": 14,
      "id": "fd370266-434e-4d88-af57-2e33ef55171a",
      "metadata": {
        "id": "fd370266-434e-4d88-af57-2e33ef55171a"
      },
      "outputs": [],
      "source": [
        "# Seleccionar la variable independiente (X) y la dependiente (y)\n",
        "X = data_2.drop(columns=['salary_in_usd'])\n",
        "y = data_2['salary_in_usd']\n",
        "# random_state se usa para fijar la semilla del generador aleatorio, asegurando que los resultados sean reproducibles.\n",
        "X_train, X_test, y_train, y_test = train_test_split(X, y, test_size=0.2, random_state=42)\n"
      ]
    },
    {
      "cell_type": "markdown",
      "id": "cc7f1311-c3cc-45a7-9afb-9e644d31596f",
      "metadata": {
        "id": "cc7f1311-c3cc-45a7-9afb-9e644d31596f"
      },
      "source": [
        "# 4. Aplicar modelos"
      ]
    },
    {
      "cell_type": "markdown",
      "id": "29bcd03f-563e-44a1-abaf-021db0d85ff8",
      "metadata": {
        "id": "29bcd03f-563e-44a1-abaf-021db0d85ff8"
      },
      "source": [
        "### 4.1 Árboles de decisión regresores"
      ]
    },
    {
      "cell_type": "code",
      "execution_count": 16,
      "id": "94ad5758-0a1d-4fe3-afd5-a7c1f2ac3516",
      "metadata": {
        "scrolled": true,
        "colab": {
          "base_uri": "https://localhost:8080/"
        },
        "id": "94ad5758-0a1d-4fe3-afd5-a7c1f2ac3516",
        "outputId": "89b9a9e3-2e06-4272-885a-9e0caab1588e"
      },
      "outputs": [
        {
          "output_type": "stream",
          "name": "stdout",
          "text": [
            "R²: 0.4400158415330552\n",
            "MAE: 32318.01909670475\n",
            "RMSE: 46326.86073017331\n",
            "STD: 62163.038069299255\n"
          ]
        }
      ],
      "source": [
        "modelo_arbol = DecisionTreeRegressor(random_state=42)\n",
        "modelo_arbol.fit(X_train, y_train)\n",
        "# Predecir\n",
        "y_pred_arbol = modelo_arbol.predict(X_test)\n",
        "# Evaluar\n",
        "r2_arbol = r2_score(y_test, y_pred_arbol)\n",
        "mse_arbol = mean_absolute_error(y_test, y_pred_arbol)\n",
        "rmse_arbol = np.sqrt(mean_squared_error(y_test, y_pred_arbol))\n",
        "# Calcular la desviación estándar de y_test\n",
        "std_y_test1= y_test.std()\n",
        "print(\"R²:\", r2_arbol)\n",
        "print(\"MAE:\", mse_arbol)\n",
        "print(\"RMSE:\", rmse_arbol)\n",
        "print(\"STD:\", std_y_test1) #ser mas peque RMSE"
      ]
    },
    {
      "cell_type": "markdown",
      "id": "298c8138-2c4e-480d-85f4-1ae5325963f1",
      "metadata": {
        "id": "298c8138-2c4e-480d-85f4-1ae5325963f1"
      },
      "source": [
        "### 4.2 Random Forest regresores"
      ]
    },
    {
      "cell_type": "code",
      "execution_count": 17,
      "id": "9cf5e5b1-88df-42f6-a787-6356b419d092",
      "metadata": {
        "colab": {
          "base_uri": "https://localhost:8080/"
        },
        "id": "9cf5e5b1-88df-42f6-a787-6356b419d092",
        "outputId": "7a5433f4-10c1-48b5-b8f2-be9a28d40901"
      },
      "outputs": [
        {
          "output_type": "stream",
          "name": "stdout",
          "text": [
            "            Modelo           MSE        R²\n",
            "0  Random forest 1  1.799235e+09  0.530541\n"
          ]
        }
      ],
      "source": [
        "#la data final con outliner\n",
        "modelo_rf = RandomForestRegressor(n_estimators=50, max_depth=5,random_state=42)\n",
        "\n",
        "modelo_rf.fit(X_train, y_train)\n",
        "\n",
        "# Hacer predicciones\n",
        "y_pred_rf = modelo_rf.predict(X_test)\n",
        "\n",
        "# Evaluar modelos\n",
        "mse_rf = mean_squared_error(y_test, y_pred_rf)\n",
        "r2_rf = r2_score(y_test, y_pred_rf)\n",
        "\n",
        "# Comparación de modelos\n",
        "comparacion_modelos = pd.DataFrame({\n",
        "    \"Modelo\": [\"Random forest 1\"],\n",
        "    \"MSE\": [mse_rf],\n",
        "    \"R²\": [r2_rf]\n",
        "})\n",
        "\n",
        "# Mostrar comparación\n",
        "print(comparacion_modelos)"
      ]
    }
  ],
  "metadata": {
    "kernelspec": {
      "display_name": "Python 3 (ipykernel)",
      "language": "python",
      "name": "python3"
    },
    "language_info": {
      "codemirror_mode": {
        "name": "ipython",
        "version": 3
      },
      "file_extension": ".py",
      "mimetype": "text/x-python",
      "name": "python",
      "nbconvert_exporter": "python",
      "pygments_lexer": "ipython3",
      "version": "3.12.9"
    },
    "colab": {
      "provenance": []
    }
  },
  "nbformat": 4,
  "nbformat_minor": 5
}