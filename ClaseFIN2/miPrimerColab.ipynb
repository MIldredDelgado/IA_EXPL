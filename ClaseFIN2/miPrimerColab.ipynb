{
  "nbformat": 4,
  "nbformat_minor": 0,
  "metadata": {
    "colab": {
      "provenance": []
    },
    "kernelspec": {
      "name": "python3",
      "display_name": "Python 3"
    },
    "language_info": {
      "name": "python"
    }
  },
  "cells": [
    {
      "cell_type": "code",
      "execution_count": null,
      "metadata": {
        "id": "3RvNFxfaUTcQ"
      },
      "outputs": [],
      "source": []
    },
    {
      "cell_type": "markdown",
      "source": [],
      "metadata": {
        "id": "w0TtE3B4Yzbm"
      }
    },
    {
      "cell_type": "code",
      "metadata": {
        "colab": {
          "base_uri": "https://localhost:8080/"
        },
        "id": "ef04d806",
        "outputId": "6edb87fa-5436-4a96-de4b-2c3e878158f6"
      },
      "source": [
        "num1 = 3.14416\n",
        "num2 = 156\n",
        "suma = num1 + num2\n",
        "print(\"el resultado es: \" , suma)"
      ],
      "execution_count": null,
      "outputs": [
        {
          "output_type": "stream",
          "name": "stdout",
          "text": [
            "el resultado es:  159.14416\n"
          ]
        }
      ]
    },
    {
      "cell_type": "code",
      "metadata": {
        "colab": {
          "base_uri": "https://localhost:8080/"
        },
        "id": "dd2c3103",
        "outputId": "d2716577-ea7e-4422-b688-e2bc553d15c7"
      },
      "source": [
        "cadena1 = \"Hola\"\n",
        "cadena2 = \" Mundo\"\n",
        "cadena_concatenada = cadena1 + cadena2\n",
        "print(cadena_concatenada)"
      ],
      "execution_count": null,
      "outputs": [
        {
          "output_type": "stream",
          "name": "stdout",
          "text": [
            "Hola Mundo\n"
          ]
        }
      ]
    },
    {
      "cell_type": "markdown",
      "source": [
        "Crear dos variables que almacenen cada una números, realizar una multiplicación e imprimir el resultado."
      ],
      "metadata": {
        "id": "eAcmk4F6ZQmz"
      }
    },
    {
      "cell_type": "code",
      "source": [
        "numero1= 345\n",
        "numero2= 347\n",
        "multiplicacion = numero1 * numero2\n",
        "print(\"el resultado es: \" , multiplicacion)"
      ],
      "metadata": {
        "colab": {
          "base_uri": "https://localhost:8080/"
        },
        "id": "Xwt1U0OzZ0-W",
        "outputId": "5e7d7d74-19be-4c0e-90ac-df2b06508d97"
      },
      "execution_count": null,
      "outputs": [
        {
          "output_type": "stream",
          "name": "stdout",
          "text": [
            "el resultado es:  119715\n"
          ]
        }
      ]
    },
    {
      "cell_type": "code",
      "source": [
        "(3 == 4)"
      ],
      "metadata": {
        "colab": {
          "base_uri": "https://localhost:8080/"
        },
        "id": "Df50vWqihzrz",
        "outputId": "5e5a225a-062f-4398-d6f8-88e5f4358bc4"
      },
      "execution_count": null,
      "outputs": [
        {
          "output_type": "execute_result",
          "data": {
            "text/plain": [
              "False"
            ]
          },
          "metadata": {},
          "execution_count": 4
        }
      ]
    },
    {
      "cell_type": "code",
      "source": [
        "(2 < 3)"
      ],
      "metadata": {
        "colab": {
          "base_uri": "https://localhost:8080/"
        },
        "id": "6D8tkbl1iJ7L",
        "outputId": "298acf66-c297-4467-d814-3f94d4e69802"
      },
      "execution_count": null,
      "outputs": [
        {
          "output_type": "execute_result",
          "data": {
            "text/plain": [
              "True"
            ]
          },
          "metadata": {},
          "execution_count": 5
        }
      ]
    },
    {
      "cell_type": "code",
      "source": [
        "(2 >= 2)"
      ],
      "metadata": {
        "colab": {
          "base_uri": "https://localhost:8080/"
        },
        "id": "8O9L-IHYiyOV",
        "outputId": "76b2d473-0358-44a6-863b-8051d7639177"
      },
      "execution_count": null,
      "outputs": [
        {
          "output_type": "execute_result",
          "data": {
            "text/plain": [
              "True"
            ]
          },
          "metadata": {},
          "execution_count": 6
        }
      ]
    },
    {
      "cell_type": "code",
      "source": [
        "#enunciados compuestos: conectores lógicos y conectores de comparación\n",
        "n1= 2\n",
        "n2= 5\n",
        "(n1 == n2) or (n1 > n2 )"
      ],
      "metadata": {
        "colab": {
          "base_uri": "https://localhost:8080/"
        },
        "id": "NW4qhDA6r_Ll",
        "outputId": "6df3acb0-641e-42b4-e5c0-514d9e814fdd"
      },
      "execution_count": null,
      "outputs": [
        {
          "output_type": "execute_result",
          "data": {
            "text/plain": [
              "False"
            ]
          },
          "metadata": {},
          "execution_count": 7
        }
      ]
    },
    {
      "cell_type": "code",
      "source": [
        "#enunciados compuestos: conectores lógicos y conectores de comparación\n",
        "n1= 2\n",
        "n2= 5\n",
        "(n1 == n2) or (n1 < n2 )"
      ],
      "metadata": {
        "colab": {
          "base_uri": "https://localhost:8080/"
        },
        "outputId": "1c8e906c-2a4a-42ae-bc28-1bfd2f27a73e",
        "id": "SQ5XdL_ztJ8A"
      },
      "execution_count": null,
      "outputs": [
        {
          "output_type": "execute_result",
          "data": {
            "text/plain": [
              "True"
            ]
          },
          "metadata": {},
          "execution_count": 8
        }
      ]
    },
    {
      "cell_type": "code",
      "source": [
        "#enunciados compuestos: conectores lógicos y conectores de comparación\n",
        "n1= 2\n",
        "n2= 5\n",
        "n3= 2\n",
        "(n1 == n3) and (n2 > n1 )"
      ],
      "metadata": {
        "colab": {
          "base_uri": "https://localhost:8080/"
        },
        "outputId": "afbf6dda-4492-4976-e914-ed873e1e7ea9",
        "id": "Q6C17d9GttRB"
      },
      "execution_count": null,
      "outputs": [
        {
          "output_type": "execute_result",
          "data": {
            "text/plain": [
              "True"
            ]
          },
          "metadata": {},
          "execution_count": 9
        }
      ]
    },
    {
      "cell_type": "code",
      "metadata": {
        "colab": {
          "base_uri": "https://localhost:8080/"
        },
        "id": "aa64d02c",
        "outputId": "66919340-71c2-425d-f50c-f47ebf8cc600"
      },
      "source": [
        "#ejemplo de condición\n",
        "edad = 16\n",
        "\n",
        "if edad >= 18:\n",
        "  print(\"Es mayor de edad\")\n",
        "else:\n",
        "  print(\"Es menor de edad\")"
      ],
      "execution_count": null,
      "outputs": [
        {
          "output_type": "stream",
          "name": "stdout",
          "text": [
            "Es menor de edad\n"
          ]
        }
      ]
    },
    {
      "cell_type": "code",
      "source": [
        "valor= input(\"ingrese un valor: \")\n",
        "print(valor)"
      ],
      "metadata": {
        "colab": {
          "base_uri": "https://localhost:8080/"
        },
        "id": "Lp8QZhCP0tc1",
        "outputId": "0a204d11-c599-4e59-ed49-06b036977200"
      },
      "execution_count": null,
      "outputs": [
        {
          "output_type": "stream",
          "name": "stdout",
          "text": [
            "ingrese un valor: 3\n",
            "3\n"
          ]
        }
      ]
    },
    {
      "cell_type": "code",
      "source": [
        "type(valor)"
      ],
      "metadata": {
        "colab": {
          "base_uri": "https://localhost:8080/"
        },
        "id": "Garvmf6s1AFD",
        "outputId": "d1df537d-701a-49ce-8ce4-1ab8e5d7781e"
      },
      "execution_count": null,
      "outputs": [
        {
          "output_type": "execute_result",
          "data": {
            "text/plain": [
              "str"
            ]
          },
          "metadata": {},
          "execution_count": 12
        }
      ]
    },
    {
      "cell_type": "code",
      "source": [
        "valor1= int(input(\"ingrese un valor: \"))\n",
        "print(valor1)"
      ],
      "metadata": {
        "colab": {
          "base_uri": "https://localhost:8080/"
        },
        "id": "-hzcNLRf2R3U",
        "outputId": "a1876cab-2fd0-45db-d31d-60328a163e6b"
      },
      "execution_count": null,
      "outputs": [
        {
          "output_type": "stream",
          "name": "stdout",
          "text": [
            "ingrese un valor: 3\n",
            "3\n"
          ]
        }
      ]
    },
    {
      "cell_type": "code",
      "source": [
        "type(valor1)"
      ],
      "metadata": {
        "colab": {
          "base_uri": "https://localhost:8080/"
        },
        "id": "WfCRlFl82hH7",
        "outputId": "5b4fea89-72f6-4c23-e926-9eff801b42ee"
      },
      "execution_count": null,
      "outputs": [
        {
          "output_type": "execute_result",
          "data": {
            "text/plain": [
              "int"
            ]
          },
          "metadata": {},
          "execution_count": 14
        }
      ]
    },
    {
      "cell_type": "code",
      "metadata": {
        "colab": {
          "base_uri": "https://localhost:8080/"
        },
        "outputId": "7e8f9ddb-0736-493f-bfbe-e462c4752c5c",
        "id": "CLlhfoPd4n_U"
      },
      "source": [
        "#ejemplo de condición\n",
        "edad = (int(input(\"dame tu edad: \")))\n",
        "\n",
        "if edad >= 18:\n",
        "  print(\"Es mayor de edad\")\n",
        "else:\n",
        "  print(\"Es menor de edad\")"
      ],
      "execution_count": null,
      "outputs": [
        {
          "output_type": "stream",
          "name": "stdout",
          "text": [
            "dame tu edad: 34\n",
            "Es mayor de edad\n"
          ]
        }
      ]
    },
    {
      "cell_type": "code",
      "metadata": {
        "colab": {
          "base_uri": "https://localhost:8080/"
        },
        "id": "91b76f69",
        "outputId": "d2dc1c20-d470-4991-fc88-9c5370330ce2"
      },
      "source": [
        "#es una estructura de condición\n",
        "edad = int(input(\"Ingresa tu edad: \"))\n",
        "\n",
        "if edad < 18:\n",
        "  print(\"Eres menor de edad\")\n",
        "elif 18 <= edad <= 35:\n",
        "  print(\"Eres un adulto\")\n",
        "else:\n",
        "  print(\"Eres un premiazo\")"
      ],
      "execution_count": null,
      "outputs": [
        {
          "output_type": "stream",
          "name": "stdout",
          "text": [
            "Ingresa tu edad: 34\n",
            "Eres un adulto\n"
          ]
        }
      ]
    },
    {
      "cell_type": "code",
      "source": [
        "#uso de for in: ciclo\n",
        "palabra=\"python\"\n",
        "for letra in palabra:\n",
        "  print(letra)"
      ],
      "metadata": {
        "colab": {
          "base_uri": "https://localhost:8080/"
        },
        "id": "64G9IF_pnbGU",
        "outputId": "202fd29b-4700-4c0f-e42f-113db3cbd5ff"
      },
      "execution_count": null,
      "outputs": [
        {
          "output_type": "stream",
          "name": "stdout",
          "text": [
            "p\n",
            "y\n",
            "t\n",
            "h\n",
            "o\n",
            "n\n"
          ]
        }
      ]
    },
    {
      "cell_type": "code",
      "metadata": {
        "colab": {
          "base_uri": "https://localhost:8080/"
        },
        "id": "268f0bab",
        "outputId": "18282c10-a7b1-4f6d-ff15-2946f92dee76"
      },
      "source": [
        "for i in range(0, 12):\n",
        "  print(i + 2)"
      ],
      "execution_count": null,
      "outputs": [
        {
          "output_type": "stream",
          "name": "stdout",
          "text": [
            "2\n",
            "3\n",
            "4\n",
            "5\n",
            "6\n",
            "7\n",
            "8\n",
            "9\n",
            "10\n",
            "11\n",
            "12\n",
            "13\n"
          ]
        }
      ]
    },
    {
      "cell_type": "code",
      "source": [
        "#una variable que almacene mi nombre, y lo imprima 10 veces\n",
        "nombre=\"Mildred\"\n",
        "for i in range(1, 11):\n",
        "  print(nombre)"
      ],
      "metadata": {
        "colab": {
          "base_uri": "https://localhost:8080/"
        },
        "id": "265C1CoLrALT",
        "outputId": "1d26f0b4-6dd7-47a2-c67f-7c724e25ac96"
      },
      "execution_count": null,
      "outputs": [
        {
          "output_type": "stream",
          "name": "stdout",
          "text": [
            "Mildred\n",
            "Mildred\n",
            "Mildred\n",
            "Mildred\n",
            "Mildred\n",
            "Mildred\n",
            "Mildred\n",
            "Mildred\n",
            "Mildred\n",
            "Mildred\n"
          ]
        }
      ]
    },
    {
      "cell_type": "code",
      "metadata": {
        "colab": {
          "base_uri": "https://localhost:8080/"
        },
        "id": "c5adf90e",
        "outputId": "e198543a-caa6-411a-e17a-8d2275aa8f2c"
      },
      "source": [
        "edad = int(input(\"Ingresa tu edad: \"))\n",
        "\n",
        "for i in range(1, edad + 1):\n",
        "  print(i)"
      ],
      "execution_count": null,
      "outputs": [
        {
          "output_type": "stream",
          "name": "stdout",
          "text": [
            "Ingresa tu edad: 34\n",
            "1\n",
            "2\n",
            "3\n",
            "4\n",
            "5\n",
            "6\n",
            "7\n",
            "8\n",
            "9\n",
            "10\n",
            "11\n",
            "12\n",
            "13\n",
            "14\n",
            "15\n",
            "16\n",
            "17\n",
            "18\n",
            "19\n",
            "20\n",
            "21\n",
            "22\n",
            "23\n",
            "24\n",
            "25\n",
            "26\n",
            "27\n",
            "28\n",
            "29\n",
            "30\n",
            "31\n",
            "32\n",
            "33\n",
            "34\n"
          ]
        }
      ]
    },
    {
      "cell_type": "markdown",
      "source": [
        "Escribir un programa que pida al usuario un número entero positivo y muestre por pantalla todos los números impares desde 1 hasta ese número separados por comas.\n"
      ],
      "metadata": {
        "id": "1dMD4xySy-WS"
      }
    },
    {
      "cell_type": "code",
      "metadata": {
        "colab": {
          "base_uri": "https://localhost:8080/"
        },
        "id": "501cad60",
        "outputId": "d7de595e-65ed-4cbe-c707-48c65aa9a8ac"
      },
      "source": [
        "numero = int(input(\"Ingresa un número entero positivo: \"))\n",
        "\n",
        "if numero <= 0:\n",
        "  print(\"Por favor, ingresa un número entero positivo.\")\n",
        "else:\n",
        "  impares = []\n",
        "  for i in range(1, numero + 1):\n",
        "    if i % 2 != 0:\n",
        "      impares.append(str(i))\n",
        "  print(\",\".join(impares))"
      ],
      "execution_count": null,
      "outputs": [
        {
          "output_type": "stream",
          "name": "stdout",
          "text": [
            "Ingresa un número entero positivo: 34\n",
            "1,3,5,7,9,11,13,15,17,19,21,23,25,27,29,31,33\n"
          ]
        }
      ]
    },
    {
      "cell_type": "code",
      "source": [
        "#crear una lista de nombres de estudiantes\n",
        "estudiantes= [\"Mildred\", \"Diana\", \"Luisa\", \"Christian\", \"Juan\", \"Felipe\", 6]\n",
        "for estudiante in estudiantes:\n",
        "  print(\"Hola mi querid@: \" , estudiante)"
      ],
      "metadata": {
        "colab": {
          "base_uri": "https://localhost:8080/"
        },
        "id": "ptZIpOEPNq12",
        "outputId": "0bf9d9fc-53d2-4e4c-9ccb-262101b19163"
      },
      "execution_count": null,
      "outputs": [
        {
          "output_type": "stream",
          "name": "stdout",
          "text": [
            "Hola mi querid@:  Mildred\n",
            "Hola mi querid@:  Diana\n",
            "Hola mi querid@:  Luisa\n",
            "Hola mi querid@:  Christian\n",
            "Hola mi querid@:  Juan\n",
            "Hola mi querid@:  Felipe\n",
            "Hola mi querid@:  6\n"
          ]
        }
      ]
    },
    {
      "cell_type": "code",
      "source": [
        "#crear una lista vacía y la vamos a llenar de 1 en 1, con nombres de amigos\n",
        "amigos=[]\n",
        "for i in range(1,6):\n",
        "  amigo=input(\"Ingresa el nombre de tu amigo: \")\n",
        "  amigos.append(amigo)\n",
        "print(amigos)"
      ],
      "metadata": {
        "colab": {
          "base_uri": "https://localhost:8080/"
        },
        "id": "ZRdvhYxdOpjR",
        "outputId": "af5bffee-4948-4b30-f574-edaae72607df"
      },
      "execution_count": null,
      "outputs": [
        {
          "output_type": "stream",
          "name": "stdout",
          "text": [
            "Ingresa el nombre de tu amigo: er\n",
            "Ingresa el nombre de tu amigo: e\n",
            "Ingresa el nombre de tu amigo: e\n",
            "Ingresa el nombre de tu amigo: \n",
            "Ingresa el nombre de tu amigo: e\n",
            "['er', 'e', 'e', '', 'e']\n"
          ]
        }
      ]
    },
    {
      "cell_type": "markdown",
      "source": [
        "Escribir un programa que almacene las asignaturas de un curso (por ejemplo Matemáticas, Física, Química, Historia y Lengua) en una lista, pregunte al usuario la nota que ha sacado en cada asignatura, y después las muestre por pantalla con el mensaje En `asignatura` has sacado `nota` donde `asignatura` es cada una des las asignaturas de la lista y `nota` cada una de las correspondientes notas introducidas por el usuario.\n"
      ],
      "metadata": {
        "id": "Z6HD5q240n9U"
      }
    },
    {
      "cell_type": "code",
      "metadata": {
        "colab": {
          "base_uri": "https://localhost:8080/"
        },
        "id": "c28ba5ca",
        "outputId": "2fb6aaef-fe62-4f8e-dcf6-6f622eed5453"
      },
      "source": [
        "# Store the subjects in a list\n",
        "asignaturas = [\"Matemáticas\", \"Física\", \"Química\", \"Historia\", \"Lengua\"]\n",
        "notas = []\n",
        "\n",
        "# Ask the user for the grade in each subject\n",
        "for asignatura in asignaturas:\n",
        "  while True:\n",
        "    try:\n",
        "      nota = float(input(f\"¿Qué nota has sacado en {asignatura}? \"))\n",
        "      if 0 <= nota <= 10:\n",
        "        notas.append(nota)\n",
        "        break\n",
        "      else:\n",
        "        print(\"Por favor, ingresa una nota entre 0 y 10.\")\n",
        "    except ValueError:\n",
        "      print(\"Entrada inválida. Por favor, ingresa un número.\")\n",
        "\n",
        "# Display the subject and the corresponding grade\n",
        "print(\"\\n--- Tus notas ---\")\n",
        "for i in range(len(asignaturas)):\n",
        "  print(f\"En {asignaturas[i]} has sacado {notas[i]}\")"
      ],
      "execution_count": null,
      "outputs": [
        {
          "output_type": "stream",
          "name": "stdout",
          "text": [
            "¿Qué nota has sacado en Matemáticas? 4.5\n",
            "¿Qué nota has sacado en Física? 5\n",
            "¿Qué nota has sacado en Química? 3\n",
            "¿Qué nota has sacado en Historia? 2\n",
            "¿Qué nota has sacado en Lengua? 0\n",
            "\n",
            "--- Tus notas ---\n",
            "En Matemáticas has sacado 4.5\n",
            "En Física has sacado 5.0\n",
            "En Química has sacado 3.0\n",
            "En Historia has sacado 2.0\n",
            "En Lengua has sacado 0.0\n"
          ]
        }
      ]
    },
    {
      "cell_type": "code",
      "source": [
        "# Crear la lista solicitada\n",
        "partipantes = [\"sara\", \"juana\", \"mengana\", \"oidor\"]\n",
        "\n",
        "# Imprimir cada nombre con el formato pedido\n",
        "for participante in partipantes:\n",
        "    print(f\"¿hola, cómo estas? {participante}\")\n"
      ],
      "metadata": {
        "colab": {
          "base_uri": "https://localhost:8080/"
        },
        "id": "yIWB73FRdyNd",
        "outputId": "3264d679-17b3-4090-d642-19ea30410041"
      },
      "execution_count": null,
      "outputs": [
        {
          "output_type": "stream",
          "name": "stdout",
          "text": [
            "¿hola, cómo estas? sara\n",
            "¿hola, cómo estas? juana\n",
            "¿hola, cómo estas? mengana\n",
            "¿hola, cómo estas? oidor\n"
          ]
        }
      ]
    },
    {
      "cell_type": "code",
      "source": [
        "#crear una funcion sin parametro\n",
        "def saludar():\n",
        "  print(\"hola, bienvenido\")"
      ],
      "metadata": {
        "id": "PzirFoApgUlS"
      },
      "execution_count": null,
      "outputs": []
    },
    {
      "cell_type": "code",
      "source": [
        "saludar()"
      ],
      "metadata": {
        "colab": {
          "base_uri": "https://localhost:8080/"
        },
        "id": "fc0RFjU7g7cJ",
        "outputId": "ececaaed-795a-4494-b29f-222375d82cf2"
      },
      "execution_count": null,
      "outputs": [
        {
          "output_type": "stream",
          "name": "stdout",
          "text": [
            "hola, bienvenido\n"
          ]
        }
      ]
    },
    {
      "cell_type": "code",
      "source": [
        "saludar()\n",
        "saludar()"
      ],
      "metadata": {
        "colab": {
          "base_uri": "https://localhost:8080/"
        },
        "id": "0OXuHYQDhHh8",
        "outputId": "6de043bf-115d-44d3-e125-7d12685a6ae0"
      },
      "execution_count": null,
      "outputs": [
        {
          "output_type": "stream",
          "name": "stdout",
          "text": [
            "hola, bienvenido\n",
            "hola, bienvenido\n"
          ]
        }
      ]
    },
    {
      "cell_type": "code",
      "source": [
        "#función con parámetros\n",
        "def saludar2(nombre):\n",
        "  print(\"hola \" + nombre)"
      ],
      "metadata": {
        "id": "PA77cRhph4H3"
      },
      "execution_count": null,
      "outputs": []
    },
    {
      "cell_type": "code",
      "source": [
        "saludar2(\"Mildred\")"
      ],
      "metadata": {
        "colab": {
          "base_uri": "https://localhost:8080/"
        },
        "id": "M9U_4asIiigu",
        "outputId": "dce106cf-d34d-45f3-a608-8d65baac59f4"
      },
      "execution_count": null,
      "outputs": [
        {
          "output_type": "stream",
          "name": "stdout",
          "text": [
            "hola Mildred\n"
          ]
        }
      ]
    },
    {
      "cell_type": "code",
      "source": [
        "'''\n",
        "una funcion que reciba por parámetro dos valores enteros y una opción, si la\n",
        "opción es 1: suma, 2: resta, 3: multiplica.\n",
        "'''\n",
        "\n",
        "def calcular(numero1, numero2, opcion):\n",
        "\n",
        "  if opcion == 1:\n",
        "    print(\"El resultado de su operación suma es: \", numero1 + numero2)\n",
        "  elif opcion == 2:\n",
        "    print(\"El resultado de su operación resta es: \", numero1 - numero2)\n",
        "  elif opcion == 3:\n",
        "    print(\"El resultado de su operación multiplicación es: \", numero1 * numero2)\n",
        "  else:\n",
        "    print(\"OPERADOR INVÁLIDO\")\n",
        "\n",
        "def llenarCalcular():\n",
        "  print(\":::::::::::::::Bienvenido a la calculadora::::::::::::::\")\n",
        "  print(\"\")\n",
        "  numero1 = int(input(\"Ingresa el primer número: \"))\n",
        "  numero2 = int(input(\"Ingresa el segundo número: \"))\n",
        "  opcion = int(input(\"Ingresa la operación que deseas realizar (1. Suma, 2. Resta, 3. Multiplicación): \"))\n",
        "  calcular(numero1, numero2, opcion)\n",
        "\n",
        "llenarCalcular()\n",
        ""
      ],
      "metadata": {
        "colab": {
          "base_uri": "https://localhost:8080/"
        },
        "id": "QzMXFtoqDi9T",
        "outputId": "ebf47927-69ca-47c6-c7e5-462db6f545d5"
      },
      "execution_count": 8,
      "outputs": [
        {
          "output_type": "stream",
          "name": "stdout",
          "text": [
            ":::::::::::::::Bienvenido a la calculadora::::::::::::::\n",
            "\n",
            "Ingresa el primer número: 2\n",
            "Ingresa el segundo número: 4\n",
            "Ingresa la operación que deseas realizar (1. Suma, 2. Resta, 3. Multiplicación): 3\n",
            "El resultado de su operación multiplicación es:  8\n"
          ]
        }
      ]
    }
  ]
}