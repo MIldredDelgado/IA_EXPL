{
 "cells": [
  {
   "cell_type": "markdown",
   "id": "f67922e1",
   "metadata": {},
   "source": [
    "# Chatbot Educativo con Naive Bayes y Similitud Semántica\n",
    "Este notebook desarrolla un chatbot que clasifica las preguntas de los estudiantes y selecciona la mejor respuesta posible con base en análisis semántico."
   ]
  },
  {
   "cell_type": "markdown",
   "id": "134b0d85",
   "metadata": {},
   "source": [
    "## ¿Qué es Naive Bayes?\n",
    "Naive Bayes es un clasificador probabilístico basado en el teorema de Bayes. Asume que las características (palabras, en este caso) son independientes entre sí. Es eficaz para tareas de clasificación de texto, como spam, sentimientos o, en este caso, la clasificación de intenciones."
   ]
  },
  {
   "cell_type": "markdown",
   "id": "fafda683",
   "metadata": {},
   "source": [
    "## ¿Qué es TF-IDF?\n",
    "**TF-IDF** (Term Frequency - Inverse Document Frequency) es una técnica que transforma texto en valores numéricos que reflejan la importancia de las palabras en los documentos. Se utiliza para vectorizar texto antes de aplicar modelos de aprendizaje automático."
   ]
  },
  {
   "cell_type": "markdown",
   "id": "77b140a2",
   "metadata": {},
   "source": [
    "## ¿Qué es la similitud semántica?\n",
    "La **similitud semántica** mide cuán similares son dos textos en términos de significado. En este caso usamos vectores de SpaCy para representar frases, y comparamos la consulta del usuario con las posibles respuestas para elegir la más adecuada."
   ]
  },
  {
   "cell_type": "markdown",
   "id": "ca956c03",
   "metadata": {},
   "source": [
    "## 📐 Fundamentos Matemáticos"
   ]
  },
  {
   "cell_type": "markdown",
   "id": "66d2d04b",
   "metadata": {},
   "source": [
    "### 🔢 Teorema de Bayes aplicado a texto\n",
    "El clasificador Naive Bayes predice la clase \\( C_k \\) dada una observación \\( x \\) usando la siguiente fórmula:\n",
    "\n",
    "\\[ P(C_k \\mid x) = \\frac{P(x \\mid C_k) P(C_k)}{P(x)} \\]\n",
    "\n",
    "En clasificación de texto, \\( x \\) son las palabras del documento. Bajo la suposición de independencia ingenua entre palabras, se convierte en:\n",
    "\n",
    "\\[ P(C_k \\mid x_1, ..., x_n) \\propto P(C_k) \\prod_{i=1}^n P(x_i \\mid C_k) \\]"
   ]
  },
  {
   "cell_type": "markdown",
   "id": "3a4a6953-569c-46c8-b763-f6a04105f092",
   "metadata": {},
   "source": [
    "### 🧮 Fórmula de TF-IDF\n",
    "**TF (Frecuencia de Término):** cuántas veces aparece un término en un documento.\n",
    "\n",
    "\\[ TF(t, d) = \\frac{f_{t,d}}{\\sum_k f_{k,d}} \\]\n",
    "\n",
    "**IDF (Frecuencia Inversa de Documentos):** mide cuán común o rara es una palabra en todos los documentos.\n",
    "\n",
    "\\[ IDF(t, D) = \\log \\left( \\frac{N}{1 + n_t} \\right) \\]\n",
    "\n",
    "Donde:\n",
    "- \\( f_{t,d} \\) es la frecuencia del término \\( t \\) en el documento \\( d \\)\n",
    "- \\( N \\) es el número total de documentos\n",
    "- \\( n_t \\) es el número de documentos que contienen el término \\( t \\)\n",
    "\n",
    "**TF-IDF final:**\n",
    "\\[ TFIDF(t, d, D) = TF(t, d) \\cdot IDF(t, D) \\]"
   ]
  },
  {
   "cell_type": "markdown",
   "id": "d146928b",
   "metadata": {},
   "source": [
    "### 🔗 Similitud de coseno\n",
    "Se usa para medir qué tan similares son dos vectores (frase del usuario y respuesta).\n",
    "Se calcula así:\n",
    "\n",
    "\\[ \\text{coseno}(A, B) = \\frac{A \\cdot B}{\\|A\\| \\|B\\|} = \\frac{\\sum_{i=1}^n A_i B_i}{\\sqrt{\\sum_{i=1}^n A_i^2} \\sqrt{\\sum_{i=1}^n B_i^2}} \\]\n",
    "\n",
    "El valor resultante está entre 0 (completamente diferente) y 1 (idéntico)."
   ]
  },
  {
   "cell_type": "markdown",
   "id": "a5ae19c3",
   "metadata": {},
   "source": [
    "# Chatbot Educativo con Naive Bayes y TF-IDF"
   ]
  },
  {
   "cell_type": "markdown",
   "id": "3891580f",
   "metadata": {},
   "source": [
    "### Entrenamiento del clasificador con TF-IDF y Naive Bayes\n",
    "Creamos un pipeline que convierte las frases limpias en vectores usando TF-IDF, y luego las clasifica con un modelo de Naive Bayes entrenado sobre las etiquetas del dataset."
   ]
  },
  {
   "cell_type": "markdown",
   "id": "e9f4b5a0-9e70-4542-96dc-a4713daa171e",
   "metadata": {},
   "source": [
    "**Chatbot Educativo con Naive Bayes y TF-IDF**\n",
    "Este cuaderno entrena un modelo Naive Bayes para responder preguntas frecuentes sobre temas académicos como matrículas, horarios, calificaciones, etc.\n"
   ]
  },
  {
   "cell_type": "code",
   "execution_count": 15,
   "id": "b2db8cef-c87a-44e9-b934-028c4623843b",
   "metadata": {},
   "outputs": [],
   "source": [
    "#importar libreria\n",
    "import pandas as pd\n",
    "import spacy\n",
    "import unicodedata\n",
    "import re\n",
    "from sklearn.metrics.pairwise import cosine_similarity\n",
    "import random\n",
    "from sklearn.metrics import classification_report\n",
    "from sklearn.feature_extraction.text import TfidfVectorizer\n",
    "from sklearn.naive_bayes import MultinomialNB\n",
    "from sklearn.pipeline import make_pipeline\n",
    "from sklearn.model_selection import train_test_split\n",
    "\n",
    "nlp = spacy.load(\"es_core_news_md\")"
   ]
  },
  {
   "cell_type": "code",
   "execution_count": 16,
   "id": "e3683560-ae85-49c9-ac08-615987e441b4",
   "metadata": {},
   "outputs": [
    {
     "data": {
      "text/html": [
       "<div>\n",
       "<style scoped>\n",
       "    .dataframe tbody tr th:only-of-type {\n",
       "        vertical-align: middle;\n",
       "    }\n",
       "\n",
       "    .dataframe tbody tr th {\n",
       "        vertical-align: top;\n",
       "    }\n",
       "\n",
       "    .dataframe thead th {\n",
       "        text-align: right;\n",
       "    }\n",
       "</style>\n",
       "<table border=\"1\" class=\"dataframe\">\n",
       "  <thead>\n",
       "    <tr style=\"text-align: right;\">\n",
       "      <th></th>\n",
       "      <th>consulta</th>\n",
       "      <th>categoria</th>\n",
       "      <th>respuesta</th>\n",
       "      <th>respuesta_compuesta</th>\n",
       "      <th>respuestas_compuestas</th>\n",
       "    </tr>\n",
       "  </thead>\n",
       "  <tbody>\n",
       "    <tr>\n",
       "      <th>0</th>\n",
       "      <td>¿Cómo me inscribo al próximo semestre?</td>\n",
       "      <td>matriculas</td>\n",
       "      <td>Para inscribirte al próximo semestre, debes in...</td>\n",
       "      <td>Para me inscribo al próximo semestre, Para ins...</td>\n",
       "      <td>Para inscribirte inscribo al próximo semestre,...</td>\n",
       "    </tr>\n",
       "    <tr>\n",
       "      <th>1</th>\n",
       "      <td>¿Cuál es la fecha límite para inscribirse?</td>\n",
       "      <td>matriculas</td>\n",
       "      <td>La fecha límite para completar tu inscripción ...</td>\n",
       "      <td>La la fecha límite para inscribirse es, La fec...</td>\n",
       "      <td>La la fecha límite para inscribirse es, La fec...</td>\n",
       "    </tr>\n",
       "    <tr>\n",
       "      <th>2</th>\n",
       "      <td>¿Qué documentos necesito para la matrícula?</td>\n",
       "      <td>matriculas</td>\n",
       "      <td>Para realizar tu matrícula necesitas: identifi...</td>\n",
       "      <td>Lo que necesitas saber sobre documentos necesi...</td>\n",
       "      <td>Lo que necesitas saber sobre documentos necesi...</td>\n",
       "    </tr>\n",
       "    <tr>\n",
       "      <th>3</th>\n",
       "      <td>¿Cuánto cuesta la inscripción?</td>\n",
       "      <td>matriculas</td>\n",
       "      <td>El costo de inscripción para el semestre actua...</td>\n",
       "      <td>El valor relacionado con cuesta la inscripción...</td>\n",
       "      <td>El valor relacionado con cuesta la inscripción...</td>\n",
       "    </tr>\n",
       "    <tr>\n",
       "      <th>4</th>\n",
       "      <td>¿Dónde puedo pagar mi matrícula?</td>\n",
       "      <td>matriculas</td>\n",
       "      <td>Puedes pagar tu matrícula en cualquier sucursa...</td>\n",
       "      <td>Puedes hacerlo en el lugar donde, Puedes pagar...</td>\n",
       "      <td>Puedes realizarlo en el lugar donde, Puedes pa...</td>\n",
       "    </tr>\n",
       "  </tbody>\n",
       "</table>\n",
       "</div>"
      ],
      "text/plain": [
       "                                      consulta   categoria  \\\n",
       "0       ¿Cómo me inscribo al próximo semestre?  matriculas   \n",
       "1   ¿Cuál es la fecha límite para inscribirse?  matriculas   \n",
       "2  ¿Qué documentos necesito para la matrícula?  matriculas   \n",
       "3               ¿Cuánto cuesta la inscripción?  matriculas   \n",
       "4             ¿Dónde puedo pagar mi matrícula?  matriculas   \n",
       "\n",
       "                                           respuesta  \\\n",
       "0  Para inscribirte al próximo semestre, debes in...   \n",
       "1  La fecha límite para completar tu inscripción ...   \n",
       "2  Para realizar tu matrícula necesitas: identifi...   \n",
       "3  El costo de inscripción para el semestre actua...   \n",
       "4  Puedes pagar tu matrícula en cualquier sucursa...   \n",
       "\n",
       "                                 respuesta_compuesta  \\\n",
       "0  Para me inscribo al próximo semestre, Para ins...   \n",
       "1  La la fecha límite para inscribirse es, La fec...   \n",
       "2  Lo que necesitas saber sobre documentos necesi...   \n",
       "3  El valor relacionado con cuesta la inscripción...   \n",
       "4  Puedes hacerlo en el lugar donde, Puedes pagar...   \n",
       "\n",
       "                               respuestas_compuestas  \n",
       "0  Para inscribirte inscribo al próximo semestre,...  \n",
       "1  La la fecha límite para inscribirse es, La fec...  \n",
       "2  Lo que necesitas saber sobre documentos necesi...  \n",
       "3  El valor relacionado con cuesta la inscripción...  \n",
       "4  Puedes realizarlo en el lugar donde, Puedes pa...  "
      ]
     },
     "execution_count": 16,
     "metadata": {},
     "output_type": "execute_result"
    }
   ],
   "source": [
    "## 📥 Cargar el Dataset\n",
    "df = pd.read_csv(r\"C:\\Users\\darly\\Downloads\\dataEducacion_final_393_agregado.csv\")\n",
    "\n",
    "df.head()"
   ]
  },
  {
   "cell_type": "code",
   "execution_count": 17,
   "id": "d44cbf70-8cc4-489b-bfe7-1ce3a46791cb",
   "metadata": {},
   "outputs": [],
   "source": [
    "#limpieza de los datos #Incluye:\n",
    "#- Minúsculas\n",
    "#- Eliminación de tildes\n",
    "#- Lematización\n",
    "#- Conserva palabras importantes como \"dónde\", \"cuándo\", \"cómo\", \"qué\", etc.\n",
    "\n",
    "\n",
    "# Palabras que queremos conservar (normalizadas)\n",
    "custom_stopwords_to_keep = {\"no\", \"si\", \"donde\", \"cuando\", \"como\", \"que\", \"cual\", \"cuanto\"}\n",
    "\n",
    "def normalize_text(text):\n",
    "    # Paso 1: convertir a minúsculas y eliminar tildes\n",
    "    text = str(text).lower()\n",
    "    text = ''.join(\n",
    "        c for c in unicodedata.normalize('NFD', text)\n",
    "        if unicodedata.category(c) != 'Mn'\n",
    "    )\n",
    "    text = re.sub(r\"[^a-zA-Züñ¿?¡! ]\", \"\", text)  # conservamos solo letras simples\n",
    "\n",
    "    # Paso 2: procesar con Spacy\n",
    "    doc = nlp(text)\n",
    "    \n",
    "    # Paso 3: eliminar stopwords solo si no están en custom_stopwords_to_keep\n",
    "    tokens = [\n",
    "        token.lemma_ for token in doc\n",
    "        if not (token.is_stop and token.lemma_.lower() not in custom_stopwords_to_keep)\n",
    "    ]\n",
    "    \n",
    "    return \" \".join(tokens)\n"
   ]
  },
  {
   "cell_type": "code",
   "execution_count": 18,
   "id": "7a598bbb-2869-4106-bd61-3d3f3ef59da0",
   "metadata": {},
   "outputs": [],
   "source": [
    "# Aplicar limpieza\n",
    "df[\"consulta_limpia\"] = df[\"consulta\"].apply(normalize_text)"
   ]
  },
  {
   "cell_type": "code",
   "execution_count": 19,
   "id": "4e672bd0-2108-461f-b2ff-643244a71c87",
   "metadata": {},
   "outputs": [],
   "source": [
    "#Vamos a crear un modelo de clasificación de intención por categoría usando n-gramas de 1 a 3.\n",
    "\n",
    "X = df[\"consulta_limpia\"]\n",
    "y = df[\"categoria\"]"
   ]
  },
  {
   "cell_type": "code",
   "execution_count": 20,
   "id": "6b24697d-7e5c-4ead-a4eb-78f1ae4a5c1c",
   "metadata": {},
   "outputs": [],
   "source": [
    "#partir set \n",
    "X_train, X_test, y_train, y_test = train_test_split(X, y, test_size=0.2, random_state=42)"
   ]
  },
  {
   "cell_type": "code",
   "execution_count": 21,
   "id": "2cd054aa-ce20-4d41-89c6-0b4732e867e9",
   "metadata": {},
   "outputs": [],
   "source": [
    "#crear estructura de entranamiento y medir la clasificacion\n",
    "\n",
    "model = make_pipeline(\n",
    "    TfidfVectorizer(\n",
    "        ngram_range=(1, 2),       # Usa un contexto de hasta 3 palabras\n",
    "        min_df=1                # Aparece en al menos 2 consulta\n",
    "                   ),\n",
    "    MultinomialNB()\n",
    ")\n"
   ]
  },
  {
   "cell_type": "code",
   "execution_count": 22,
   "id": "95100cb2-0170-4d6c-8f9f-d83d84ca9155",
   "metadata": {},
   "outputs": [
    {
     "name": "stdout",
     "output_type": "stream",
     "text": [
      "Precisión del modelo: 0.8734177215189873\n",
      "                precision    recall  f1-score   support\n",
      "\n",
      "calificaciones       0.87      0.93      0.90        14\n",
      "      horarios       0.82      1.00      0.90        14\n",
      " instalaciones       1.00      0.92      0.96        12\n",
      "    matriculas       0.83      0.91      0.87        11\n",
      "    requisitos       0.83      0.71      0.77        14\n",
      "      tramites       0.92      0.79      0.85        14\n",
      "\n",
      "      accuracy                           0.87        79\n",
      "     macro avg       0.88      0.88      0.87        79\n",
      "  weighted avg       0.88      0.87      0.87        79\n",
      "\n"
     ]
    }
   ],
   "source": [
    "#entrenar modelo\n",
    "model.fit(X_train, y_train)\n",
    "print(\"Precisión del modelo:\", model.score(X_test, y_test))\n",
    "preds = model.predict(X_test)\n",
    "print(classification_report(y_test, preds))\n"
   ]
  },
  {
   "cell_type": "code",
   "execution_count": 30,
   "id": "a2a8e2fd-1c51-4c9c-913f-524d324ebd0d",
   "metadata": {},
   "outputs": [],
   "source": [
    "## 💬 Motor de Chatbot\n",
    "#Definimos saludos y despedidas y usamos clasificación + similitud para elegir la mejor respuesta en cada categoría.\n",
    "\n",
    "saludos = [\"hola\", \"buenos dias\", \"buenas tardes\", \"buenas noches\", \"hola que tal\", \"como estas\", \"ey\"]\n",
    "respuestas_saludo = [\"¡Hola! ¿En qué puedo ayudarte?\", \"¡Buenos días! ¿Qué necesitas?\", \"Hola, dime tu duda.\"]\n",
    "\n",
    "despedidas = [\"gracias\", \"hasta luego\", \"adios\", \"nos vemos\", \"bye\", \"chao\"]\n",
    "respuestas_despedida = [\"¡Hasta pronto!\", \"Gracias por tu consulta. ¡Éxitos!\", \"Nos vemos.\"]\n",
    "\n",
    "def responder(pregunta):\n",
    "    pregunta_limpia = normalize_text(pregunta)\n",
    "    print(\"🔍 Consulta limpia →\", pregunta_limpia)\n",
    "    \n",
    "    if any(saludo in pregunta.lower() for saludo in saludos):\n",
    "        return random.choice(respuestas_saludo)\n",
    "    \n",
    "    if any(despedida in pregunta.lower() for despedida in despedidas):\n",
    "        return random.choice(respuestas_despedida)\n",
    "    \n",
    "    # 1. Clasificar la intención (etiqueta)\n",
    "    etiqueta = model.predict([pregunta_limpia])[0]\n",
    "    print(\"📌 Categoría detectada →\", etiqueta)\n",
    "    \n",
    "    # 2. Filtrar respuestas de esa categoría\n",
    "    respuestas_categoria = df[df[\"categoria\"] == etiqueta].copy()\n",
    "\n",
    "    # 3. Normalizar las respuestas para compararlas\n",
    "    respuestas_categoria[\"respuesta_limpia\"] = respuestas_categoria[\"respuesta_compuesta\"].apply(normalize_text)\n",
    "\n",
    "    # 4. Vectorizar respuestas limpias\n",
    "    vectorizer = model.named_steps[\"tfidfvectorizer\"]\n",
    "    respuestas_categoria[\"respuesta_vec\"] = respuestas_categoria[\"respuesta_limpia\"].apply(lambda x: vectorizer.transform([x]))\n",
    "    \n",
    "    pregunta_vec = vectorizer.transform([pregunta_limpia])\n",
    "    \n",
    "    # 5. Calcular similitud contra respuestas\n",
    "    respuestas_categoria[\"similitud\"] = respuestas_categoria[\"respuesta_vec\"].apply(lambda x: cosine_similarity(x, pregunta_vec)[0][0])\n",
    "    \n",
    "    # 6. Mostrar top 5 respuestas más similares\n",
    "    print(\"\\n🎯 Top 5 respuestas más similares:\")\n",
    "    top5 = respuestas_categoria[[\"respuesta_compuesta\", \"similitud\"]].sort_values(by=\"similitud\", ascending=False).head(5)\n",
    "    print(top5.to_string(index=False))\n",
    "\n",
    "    # 7. Devolver la mejor respuesta\n",
    "    mejor_idx = respuestas_categoria[\"similitud\"].idxmax()\n",
    "  \n",
    "    return df.loc[mejor_idx, \"respuesta\"]\n"
   ]
  },
  {
   "cell_type": "code",
   "execution_count": 31,
   "id": "cf9e3f4a",
   "metadata": {
    "scrolled": true
   },
   "outputs": [
    {
     "name": "stdout",
     "output_type": "stream",
     "text": [
      "🔍 Consulta limpia → hola\n",
      "Hola, dime tu duda.\n",
      "\n",
      "🔍 Consulta limpia → ¿ como inscribo clase ?\n",
      "📌 Categoría detectada → horarios\n",
      "\n",
      "🎯 Top 5 respuestas más similares:\n",
      "                                                                                                                                                                                                                                                                                                      respuesta_compuesta  similitud\n",
      "                                                   Con respecto a tu pregunta sobre a qué hora comienzan las clases,, Las clases matutinas comienzan a las 7:00 AM, el turno vespertino inicia a las 2:00 PM y las clases nocturnas a partir de las 6:00 PM. Te recomendamos llegar 15 minutos antes para ubicar tu aula.   0.237527\n",
      "Con respecto a tu pregunta sobre puedo tomar clases en turno vespertino y matutino,, Sí, puedes combinar clases de diferentes turnos siempre que no existan traslapes de horario y cumplas con los prerrequisitos de las materias. Te recomendamos verificar la distancia entre edificios si tus clases son consecutivas.   0.173456\n",
      "                                                                                                                              Lo que necesitas saber sobre pasa si mi clase coincide con una actividad institucional es, Puedes solicitar justificación en coordinación académica y reprogramar tu clase si es necesario.   0.164281\n",
      "                                                                                                                                                               La la duración de los recesos entre clases es, Los recesos entre clases son de 10 minutos para permitir el cambio de aula y descanso breve entre sesiones.   0.153631\n",
      "                                                                                                                     Lo que necesitas saber sobre horario tienen las clases virtuales es, Las clases virtuales mantienen el mismo horario que las presenciales. Debes conectarte en el horario asignado en la plataforma.   0.144244\n",
      "<class 'str'>\n",
      "Las clases matutinas comienzan a las 7:00 AM, el turno vespertino inicia a las 2:00 PM y las clases nocturnas a partir de las 6:00 PM. Te recomendamos llegar 15 minutos antes para ubicar tu aula.\n",
      "🔍 Consulta limpia → ¿ donde ver nota ?\n",
      "📌 Categoría detectada → calificaciones\n",
      "\n",
      "🎯 Top 5 respuestas más similares:\n",
      "                                                                                                                                                                                                                           respuesta_compuesta  similitud\n",
      "                                              Para afecta la nota de participación en mi promedio, La participación puede representar entre el 10% y 20% de la nota final, dependiendo del criterio del profesor indicado en el plan de curso.   0.199895\n",
      "Con respecto a tu pregunta sobre las notas de recuperación reemplazan las anteriores,, Sí, si apruebas un examen de recuperación, la nota final será actualizada en el sistema, aunque se registrará el intento anterior para control interno.   0.169619\n",
      "                                                                               Para verifico si una nota fue modificada, Puedes consultar el historial de modificaciones de nota en el portal o preguntar directamente en servicios escolares.   0.155608\n",
      "                                                         Para calcular mi promedio general, Tu promedio general es el promedio ponderado de todas tus materias cursadas. Puedes verlo en tu historial académico dentro del portal estudiantil.   0.148165\n",
      "                                Para es el procedimiento para pedir revisión de una nota final, Debes llenar un formulario oficial y entregarlo en coordinación académica dentro de los 5 días hábiles siguientes a la publicación de la nota.   0.145468\n",
      "<class 'str'>\n",
      "La participación puede representar entre el 10% y 20% de la nota final, dependiendo del criterio del profesor indicado en el plan de curso.\n",
      "🔍 Consulta limpia → gracias informacion\n",
      "Gracias por tu consulta. ¡Éxitos!\n"
     ]
    }
   ],
   "source": [
    "\n",
    "#prueba\n",
    "\n",
    "print(responder(\"hola\"))\n",
    "print()\n",
    "print(responder(\"¿Cómo me inscribo a clases?\"))\n",
    "print(responder(\"¿Dónde veo mis notas?\"))\n",
    "print(responder(\"Gracias por la información\"))\n"
   ]
  },
  {
   "cell_type": "code",
   "execution_count": 25,
   "id": "4b4a236f-d790-4095-90b1-c770220b5ab3",
   "metadata": {},
   "outputs": [
    {
     "name": "stdout",
     "output_type": "stream",
     "text": [
      "🔍 Consulta limpia → cual instalación universidad\n",
      "📌 Categoría detectada → instalaciones\n",
      "\n",
      "🎯 Top 5 respuestas más similares:\n",
      "                                                                                                                                                                                                                                                    respuesta_compuesta  similitud\n",
      "Lo que necesitas saber sobre servicios tecnológicos ofrece la universidad a los estudiantes es, La universidad ofrece acceso a Wi-Fi en todo el campus, salas de cómputo, plataformas virtuales, correo institucional y licencias educativas de software especializado.   0.194219\n",
      "                                                                                                                              Para accedo a las instalaciones deportivas, Con tu credencial institucional puedes ingresar en los horarios autorizados para estudiantes.   0.137562\n",
      "                                                                                                       Con respecto a tu pregunta sobre las instalaciones deportivas están abiertas al público,, No, solo pueden acceder estudiantes y personal con credencial vigente.   0.126814\n",
      "                                                                    Con respecto a tu pregunta sobre las instalaciones están adaptadas para personas con movilidad reducida,, Sí, contamos con rampas, ascensores y baños adaptados en todos los edificios principales.   0.105034\n",
      "     Puedes hacerlo en el lugar donde, La biblioteca se encuentra en el edificio C, segundo piso. Cuenta con sala de lectura, cubículos de estudio grupal, hemeroteca y centro de cómputo. Puedes acceder por la entrada principal o por la escalera este del edificio.   0.000000\n",
      "La universidad ofrece acceso a Wi-Fi en todo el campus, salas de cómputo, plataformas virtuales, correo institucional y licencias educativas de software especializado.\n"
     ]
    }
   ],
   "source": [
    "print(responder(\"cuales son las instalaciones de la universidad\"))"
   ]
  },
  {
   "cell_type": "code",
   "execution_count": null,
   "id": "c3bad00b-9575-4127-8331-5ebc94518127",
   "metadata": {},
   "outputs": [],
   "source": []
  }
 ],
 "metadata": {
  "kernelspec": {
   "display_name": "Python 3 (ipykernel)",
   "language": "python",
   "name": "python3"
  },
  "language_info": {
   "codemirror_mode": {
    "name": "ipython",
    "version": 3
   },
   "file_extension": ".py",
   "mimetype": "text/x-python",
   "name": "python",
   "nbconvert_exporter": "python",
   "pygments_lexer": "ipython3",
   "version": "3.12.9"
  }
 },
 "nbformat": 4,
 "nbformat_minor": 5
}
