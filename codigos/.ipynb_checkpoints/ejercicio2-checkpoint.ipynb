{
  "cells": [
    {
      "cell_type": "markdown",
      "metadata": {
        "id": "lo9OvuTMHsYU"
      },
      "source": [
        "# Ejercicio\n",
        "\n",
        "Escribir una función que reciba un diccionario con las notas de los alumno de un curso y devuelva una serie con la nota mínima, la máxima, media y la desviación típica."
      ]
    },
    {
      "cell_type": "markdown",
      "metadata": {
        "id": "xEyJZP2JHsYa"
      },
      "source": [
        "# Solución 1"
      ]
    },
    {
      "cell_type": "code",
      "execution_count": null,
      "metadata": {
        "id": "AbZ608OTHsYc",
        "outputId": "1ac7d34e-3835-4104-d968-4ffa4c2ad811"
      },
      "outputs": [
        {
          "name": "stdout",
          "output_type": "stream",
          "text": [
            "Min                  4.000000\n",
            "Max                  9.000000\n",
            "Media                6.600000\n",
            "Desviación típica    2.162175\n",
            "dtype: float64\n"
          ]
        }
      ],
      "source": [
        "import pandas as pd\n",
        "\n",
        "def estadistica_notas(notas):\n",
        "    notas = pd.Series(notas)\n",
        "    estadisticos = pd.Series([notas.min(), notas.max(), notas.mean(), notas.std()], index=['Min', 'Max', 'Media', 'Desviación típica'])\n",
        "    return estadisticos\n",
        "\n",
        "notas = {'Juan':9, 'María':6.5, 'Pedro':4, 'Carmen': 8.5, 'Luis': 5}\n",
        "print(estadistica_notas(notas))"
      ]
    },
    {
      "cell_type": "code",
      "source": [],
      "metadata": {
        "id": "0SbRIdDscNOD"
      },
      "execution_count": null,
      "outputs": []
    },
    {
      "cell_type": "markdown",
      "metadata": {
        "id": "spkt4IjzHsYf"
      },
      "source": [
        "# Solución 2"
      ]
    },
    {
      "cell_type": "code",
      "execution_count": null,
      "metadata": {
        "id": "M30Y5EVtHsYg",
        "outputId": "cba62973-b76f-4cb1-f083-7811f6efa438"
      },
      "outputs": [
        {
          "name": "stdout",
          "output_type": "stream",
          "text": [
            "count    5.000000\n",
            "mean     6.600000\n",
            "std      2.162175\n",
            "min      4.000000\n",
            "25%      5.000000\n",
            "50%      6.500000\n",
            "75%      8.500000\n",
            "max      9.000000\n",
            "dtype: float64\n"
          ]
        }
      ],
      "source": [
        "import pandas as pd\n",
        "\n",
        "def estadistica_notas(notas):\n",
        "    notas = pd.Series(notas)\n",
        "    return notas.describe()\n",
        "\n",
        "notas = {'Juan':9, 'María':6.5, 'Pedro':4, 'Carmen': 8.5, 'Luis': 5}\n",
        "print(estadistica_notas(notas))\n",
        "\n"
      ]
    },
    {
      "cell_type": "code",
      "execution_count": 6,
      "metadata": {
        "id": "8PdTx5t6HsYh",
        "outputId": "21add92c-d814-4739-d049-af193ddf002a",
        "colab": {
          "base_uri": "https://localhost:8080/"
        }
      },
      "outputs": [
        {
          "output_type": "stream",
          "name": "stdout",
          "text": [
            "42\n"
          ]
        }
      ],
      "source": [
        "#esto es una suma\n",
        "'''print(1 + 2)\n",
        "print(2 + 2)'''\n",
        "\n",
        "print(6 * 7)"
      ]
    },
    {
      "cell_type": "code",
      "source": [
        "nombre=\"sara\""
      ],
      "metadata": {
        "id": "NXpeSsQXN7AM"
      },
      "execution_count": 7,
      "outputs": []
    },
    {
      "cell_type": "code",
      "source": [
        "nombre=input(\"dime tu nombre\")"
      ],
      "metadata": {
        "id": "3gxPLlZtN-_q",
        "outputId": "e7164bbc-db81-4f6a-bbc9-97b034266849",
        "colab": {
          "base_uri": "https://localhost:8080/"
        }
      },
      "execution_count": 8,
      "outputs": [
        {
          "name": "stdout",
          "output_type": "stream",
          "text": [
            "dime tu nombresara ve\n"
          ]
        }
      ]
    },
    {
      "cell_type": "code",
      "source": [
        "nombre"
      ],
      "metadata": {
        "id": "UBoY4LIWOOqi",
        "outputId": "fcefe1f0-8091-4f58-d8ea-a33aa3e00762",
        "colab": {
          "base_uri": "https://localhost:8080/",
          "height": 36
        }
      },
      "execution_count": 9,
      "outputs": [
        {
          "output_type": "execute_result",
          "data": {
            "text/plain": [
              "'sara ve'"
            ],
            "application/vnd.google.colaboratory.intrinsic+json": {
              "type": "string"
            }
          },
          "metadata": {},
          "execution_count": 9
        }
      ]
    },
    {
      "cell_type": "code",
      "source": [
        "number= input(\"dime un numero\")"
      ],
      "metadata": {
        "id": "NmV5GPwkOTkR",
        "outputId": "b807676a-424e-4102-f015-2929f4871228",
        "colab": {
          "base_uri": "https://localhost:8080/"
        }
      },
      "execution_count": 10,
      "outputs": [
        {
          "name": "stdout",
          "output_type": "stream",
          "text": [
            "dime un numero2\n"
          ]
        }
      ]
    },
    {
      "cell_type": "code",
      "source": [
        "number"
      ],
      "metadata": {
        "id": "2GA1oXwvOXzx",
        "outputId": "e2e553b6-8491-49ac-cc9d-6b960ff2bd60",
        "colab": {
          "base_uri": "https://localhost:8080/",
          "height": 36
        }
      },
      "execution_count": 11,
      "outputs": [
        {
          "output_type": "execute_result",
          "data": {
            "text/plain": [
              "'2'"
            ],
            "application/vnd.google.colaboratory.intrinsic+json": {
              "type": "string"
            }
          },
          "metadata": {},
          "execution_count": 11
        }
      ]
    },
    {
      "cell_type": "code",
      "source": [
        "number= int(number)"
      ],
      "metadata": {
        "id": "f52wclgVOt9L"
      },
      "execution_count": 13,
      "outputs": []
    },
    {
      "cell_type": "code",
      "source": [
        "number"
      ],
      "metadata": {
        "id": "jbTFtvt7Oy46",
        "outputId": "60216b60-7227-4cba-bb7e-17c33d03e6d9",
        "colab": {
          "base_uri": "https://localhost:8080/"
        }
      },
      "execution_count": 14,
      "outputs": [
        {
          "output_type": "execute_result",
          "data": {
            "text/plain": [
              "2"
            ]
          },
          "metadata": {},
          "execution_count": 14
        }
      ]
    },
    {
      "cell_type": "code",
      "source": [
        "(number + 2)"
      ],
      "metadata": {
        "id": "K5RNjabiO2Hh",
        "outputId": "d863d322-490e-47d3-e3f1-7c40c3aebdcf",
        "colab": {
          "base_uri": "https://localhost:8080/"
        }
      },
      "execution_count": 15,
      "outputs": [
        {
          "output_type": "execute_result",
          "data": {
            "text/plain": [
              "4"
            ]
          },
          "metadata": {},
          "execution_count": 15
        }
      ]
    },
    {
      "cell_type": "code",
      "source": [
        "number=int(input(\"dime un numero\"))"
      ],
      "metadata": {
        "id": "3wBxBI9VO9CC",
        "outputId": "0f0b9691-cdd2-4dfa-9074-b0c45a98e6ec",
        "colab": {
          "base_uri": "https://localhost:8080/"
        }
      },
      "execution_count": 16,
      "outputs": [
        {
          "name": "stdout",
          "output_type": "stream",
          "text": [
            "dime un numero2\n"
          ]
        }
      ]
    },
    {
      "cell_type": "code",
      "source": [
        "number"
      ],
      "metadata": {
        "id": "6-iJNIH0PHbR",
        "outputId": "ae3a6057-ad5f-4b2b-aa35-4604d29c0e48",
        "colab": {
          "base_uri": "https://localhost:8080/"
        }
      },
      "execution_count": 17,
      "outputs": [
        {
          "output_type": "execute_result",
          "data": {
            "text/plain": [
              "2"
            ]
          },
          "metadata": {},
          "execution_count": 17
        }
      ]
    },
    {
      "cell_type": "code",
      "source": [
        "number= float(number)"
      ],
      "metadata": {
        "id": "-IqRJbB0PUXB"
      },
      "execution_count": 18,
      "outputs": []
    },
    {
      "cell_type": "code",
      "source": [
        "number"
      ],
      "metadata": {
        "id": "9Cp-xBxePYA5",
        "outputId": "cf6fab46-53a4-4681-9c55-54e993199ac9",
        "colab": {
          "base_uri": "https://localhost:8080/"
        }
      },
      "execution_count": 19,
      "outputs": [
        {
          "output_type": "execute_result",
          "data": {
            "text/plain": [
              "2.0"
            ]
          },
          "metadata": {},
          "execution_count": 19
        }
      ]
    },
    {
      "cell_type": "code",
      "source": [
        "(3 == 3)"
      ],
      "metadata": {
        "id": "B3_Xam3xPZc7",
        "outputId": "3021054f-2f57-482b-d189-053a7baf7e0d",
        "colab": {
          "base_uri": "https://localhost:8080/"
        }
      },
      "execution_count": 20,
      "outputs": [
        {
          "output_type": "execute_result",
          "data": {
            "text/plain": [
              "True"
            ]
          },
          "metadata": {},
          "execution_count": 20
        }
      ]
    },
    {
      "cell_type": "code",
      "source": [
        "(3 != 3)"
      ],
      "metadata": {
        "id": "HN517KGVP76d",
        "outputId": "36eea090-867a-4b5e-9792-14dd258dada8",
        "colab": {
          "base_uri": "https://localhost:8080/"
        }
      },
      "execution_count": 21,
      "outputs": [
        {
          "output_type": "execute_result",
          "data": {
            "text/plain": [
              "False"
            ]
          },
          "metadata": {},
          "execution_count": 21
        }
      ]
    },
    {
      "cell_type": "code",
      "source": [
        "(3 != 4)"
      ],
      "metadata": {
        "id": "fs1W63gWQCxC",
        "outputId": "6c803225-0633-414e-9557-91a982d7c83d",
        "colab": {
          "base_uri": "https://localhost:8080/"
        }
      },
      "execution_count": 22,
      "outputs": [
        {
          "output_type": "execute_result",
          "data": {
            "text/plain": [
              "True"
            ]
          },
          "metadata": {},
          "execution_count": 22
        }
      ]
    },
    {
      "cell_type": "code",
      "source": [
        "#esto es un ejemplo de condicioal if-else\n",
        "nombre=input(\"dime tu nombre\")\n",
        "\n",
        "if nombre==\"sara\":\n",
        "    print(\"hola sara\")\n",
        "else:\n",
        "    print(\"no eres sara\")"
      ],
      "metadata": {
        "id": "Znr51WkBQl_b",
        "outputId": "cbea8304-7587-4475-e2bf-3c94669c8e02",
        "colab": {
          "base_uri": "https://localhost:8080/"
        }
      },
      "execution_count": 27,
      "outputs": [
        {
          "output_type": "stream",
          "name": "stdout",
          "text": [
            "dime tu nombredf\n",
            "no eres sara\n"
          ]
        }
      ]
    },
    {
      "cell_type": "code",
      "source": [
        "#esto es un ejemplo de condicioal if-elif- else\n",
        "nombre=input(\"dime tu nombre\")\n",
        "\n",
        "if nombre==\"sara\":\n",
        "    print(\"hola sara\")\n",
        "elif nombre==\"Mildred\":\n",
        "    print(\"hola Mildred\")\n",
        "elif nombre==\"pedro\":\n",
        "    print(\"hola pedro\")\n",
        "else:\n",
        "    print(\"quien eres babe\")"
      ],
      "metadata": {
        "id": "xin4WyvdRP7S",
        "outputId": "9517277d-e5b0-408f-de7b-5736fe76b4ce",
        "colab": {
          "base_uri": "https://localhost:8080/"
        }
      },
      "execution_count": 28,
      "outputs": [
        {
          "output_type": "stream",
          "name": "stdout",
          "text": [
            "dime tu nombreMildred\n",
            "hola Mildred\n"
          ]
        }
      ]
    },
    {
      "cell_type": "code",
      "source": [
        "nombres=[\"Mildred\", \"Juana\", \"Sara\", \"Pedro\"]\n",
        "\n",
        "for nombre in nombres:\n",
        "\n",
        "  print(\"estamos analizando el nombre... \" + nombre)\n",
        "  print(\".......................................\")\n",
        "  if nombre==\"Sara\":\n",
        "    print(\"hola sara\")\n",
        "  elif nombre==\"Mildred\":\n",
        "    print(\"hola Mildred\")\n",
        "  elif nombre==\"Pedro\":\n",
        "    print(\"hola pedro\")\n",
        "  else:\n",
        "    print(\"quien eres babe\")\n",
        "    print()\n",
        ""
      ],
      "metadata": {
        "id": "-rxBFROsUrRh",
        "outputId": "56ab0ab5-8eb2-4541-f55d-0d8e2660e94d",
        "colab": {
          "base_uri": "https://localhost:8080/"
        }
      },
      "execution_count": 31,
      "outputs": [
        {
          "output_type": "stream",
          "name": "stdout",
          "text": [
            "estamos analizando el nombre... Mildred\n",
            ".......................................\n",
            "hola Mildred\n",
            "estamos analizando el nombre... Juana\n",
            ".......................................\n",
            "quien eres babe\n",
            "\n",
            "estamos analizando el nombre... Sara\n",
            ".......................................\n",
            "hola sara\n",
            "estamos analizando el nombre... Pedro\n",
            ".......................................\n",
            "hola pedro\n"
          ]
        }
      ]
    },
    {
      "cell_type": "code",
      "source": [
        "#esto es la creación de un diccionario\n",
        "notas = {\"Juan\":9, \"María\":6.5, \"Pedro\":4, \"Carmen\": 8.5, \"Luis\": 5}"
      ],
      "metadata": {
        "id": "bntdwbmNcQjL"
      },
      "execution_count": 38,
      "outputs": []
    },
    {
      "cell_type": "code",
      "source": [
        "#muestra el diccionario\n",
        "print(notas)"
      ],
      "metadata": {
        "id": "4R1O3qV8cSfT",
        "outputId": "d0e21e98-90ed-4009-dbdb-8c3d9d914a75",
        "colab": {
          "base_uri": "https://localhost:8080/"
        }
      },
      "execution_count": 42,
      "outputs": [
        {
          "output_type": "stream",
          "name": "stdout",
          "text": [
            "{'Juan': 9, 'María': 6.5, 'Pedro': 4, 'Carmen': 8.5, 'Luis': 5}\n"
          ]
        }
      ]
    },
    {
      "cell_type": "code",
      "source": [
        "#sacar los valores(puntaje) del dict notas\n",
        "for val in notas.values():\n",
        "\n",
        "  print(val)"
      ],
      "metadata": {
        "id": "J6u31ttAcYpt",
        "outputId": "a65f007c-1a18-46b1-b535-6333e5d129ee",
        "colab": {
          "base_uri": "https://localhost:8080/"
        }
      },
      "execution_count": 43,
      "outputs": [
        {
          "output_type": "stream",
          "name": "stdout",
          "text": [
            "9\n",
            "6.5\n",
            "4\n",
            "8.5\n",
            "5\n"
          ]
        }
      ]
    },
    {
      "cell_type": "code",
      "source": [
        "#vamos a sacar las llaves(nombres) del dict\n",
        "for llave in notas.keys():\n",
        "  print(llave)"
      ],
      "metadata": {
        "id": "BcwaMqcFcfET",
        "outputId": "d2a6326f-039c-449f-912a-e7c4ba047ba0",
        "colab": {
          "base_uri": "https://localhost:8080/"
        }
      },
      "execution_count": 44,
      "outputs": [
        {
          "output_type": "stream",
          "name": "stdout",
          "text": [
            "Juan\n",
            "María\n",
            "Pedro\n",
            "Carmen\n",
            "Luis\n"
          ]
        }
      ]
    },
    {
      "cell_type": "code",
      "source": [
        "# sacar tanto llave como valores mayores a 4\n",
        "for llave, val in notas.items():\n",
        "  if val > 4:\n",
        "    print(llave)\n"
      ],
      "metadata": {
        "id": "unBUcwgQeNgs",
        "outputId": "f2d917b9-a431-4335-84c7-f132700ac0bd",
        "colab": {
          "base_uri": "https://localhost:8080/"
        }
      },
      "execution_count": 58,
      "outputs": [
        {
          "output_type": "stream",
          "name": "stdout",
          "text": [
            "Juan\n",
            "María\n",
            "Carmen\n",
            "Luis\n"
          ]
        }
      ]
    },
    {
      "cell_type": "code",
      "source": [
        "# sacar tanto llave como valores\n",
        "for llave, val in notas.items():\n",
        "    print(llave,val)\n"
      ],
      "metadata": {
        "id": "-ajpxX5Kml1l",
        "outputId": "10b68f81-a899-4088-f76c-127e5517e337",
        "colab": {
          "base_uri": "https://localhost:8080/"
        }
      },
      "execution_count": 66,
      "outputs": [
        {
          "output_type": "stream",
          "name": "stdout",
          "text": [
            "Juan 9\n",
            "María 6.5\n",
            "Pedro 4\n",
            "Carmen 8.5\n",
            "Luis 5\n"
          ]
        }
      ]
    },
    {
      "cell_type": "code",
      "source": [
        "notas['Carmen']\n"
      ],
      "metadata": {
        "id": "PeG6w5eLfRU7",
        "outputId": "010c6324-5314-46f5-b657-f2406967ac9e",
        "colab": {
          "base_uri": "https://localhost:8080/"
        }
      },
      "execution_count": 53,
      "outputs": [
        {
          "output_type": "execute_result",
          "data": {
            "text/plain": [
              "8.5"
            ]
          },
          "metadata": {},
          "execution_count": 53
        }
      ]
    },
    {
      "cell_type": "code",
      "source": [
        "l=list(notas.items())"
      ],
      "metadata": {
        "id": "V3PMBv4olmak"
      },
      "execution_count": 63,
      "outputs": []
    },
    {
      "cell_type": "code",
      "source": [
        "l"
      ],
      "metadata": {
        "id": "gYhMlJRWlps1",
        "outputId": "2f2dd6f7-a207-4d14-f422-7c67135ba28b",
        "colab": {
          "base_uri": "https://localhost:8080/"
        }
      },
      "execution_count": 64,
      "outputs": [
        {
          "output_type": "execute_result",
          "data": {
            "text/plain": [
              "[('Juan', 9), ('María', 6.5), ('Pedro', 4), ('Carmen', 8.5), ('Luis', 5)]"
            ]
          },
          "metadata": {},
          "execution_count": 64
        }
      ]
    },
    {
      "cell_type": "code",
      "source": [
        "l[0]"
      ],
      "metadata": {
        "id": "Lr1NksZgl3Oc",
        "outputId": "03515c1a-0b94-4f17-d228-83b6479da233",
        "colab": {
          "base_uri": "https://localhost:8080/"
        }
      },
      "execution_count": 65,
      "outputs": [
        {
          "output_type": "execute_result",
          "data": {
            "text/plain": [
              "('Juan', 9)"
            ]
          },
          "metadata": {},
          "execution_count": 65
        }
      ]
    },
    {
      "cell_type": "code",
      "source": [
        "# prompt: sacar una pareja, solo una de un diccionario en este caso notas\n",
        "\n",
        "notas = {\"Juan\":9, \"María\":6.5, \"Pedro\":4, \"Carmen\": 8.5, \"Luis\": 5}\n",
        "\n",
        "# Obtener una pareja (clave, valor) del diccionario\n",
        "# Usando next() e iteritems() (Python 2) o items() (Python 3)\n",
        "# Se obtiene la primera pareja. Para otra pareja diferente, ejecutar el código varias veces.\n",
        "\n",
        "# Python 3\n",
        "for llave, valor in notas.items():\n",
        "    print(f\"Nombre: {llave}, Nota: {valor}\")\n",
        "    break #Sale del bucle después de la primera iteración.\n"
      ],
      "metadata": {
        "id": "zbP-M4E8kbd1"
      },
      "execution_count": 57,
      "outputs": []
    }
  ],
  "metadata": {
    "kernelspec": {
      "display_name": "Python 3",
      "language": "python",
      "name": "python3"
    },
    "language_info": {
      "codemirror_mode": {
        "name": "ipython",
        "version": 3
      },
      "file_extension": ".py",
      "mimetype": "text/x-python",
      "name": "python",
      "nbconvert_exporter": "python",
      "pygments_lexer": "ipython3",
      "version": "3.7.6-final"
    },
    "colab": {
      "provenance": []
    }
  },
  "nbformat": 4,
  "nbformat_minor": 0
}