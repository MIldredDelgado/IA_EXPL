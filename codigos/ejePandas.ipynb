{
 "cells": [
  {
   "cell_type": "markdown",
   "id": "d2e1a2b1-82ce-40f7-ac9b-6afd7f9597dd",
   "metadata": {},
   "source": [
    "Escribir una función que reciba un diccionario con las notas de los alumno de un curso y devuelva una serie con la nota mínima, la máxima, media y la desviación típica."
   ]
  },
  {
   "cell_type": "code",
   "execution_count": 4,
   "id": "08e08ac8-1c0a-4d1c-b53a-38a94a03fe3b",
   "metadata": {},
   "outputs": [
    {
     "name": "stdout",
     "output_type": "stream",
     "text": [
      "<class 'pandas.core.series.Series'>\n",
      "Minimo               4.000000\n",
      "Maximo               9.000000\n",
      "Media                6.600000\n",
      "Desviación típica    2.162175\n",
      "dtype: float64\n"
     ]
    }
   ],
   "source": [
    "#importar pandas\n",
    "import pandas as pd\n",
    "\n",
    "#funcion que realiza analisis estadistico, y recibe un diccionario de notas\n",
    "def estadistica_notas(notas):\n",
    "    #las notas seran asignadas a una estructura de pandas llamada series\n",
    "    notas = pd.Series(notas)\n",
    "    #halla de las notas: la nota minima, máxima, promedio de notas y la desviación típica\n",
    "    estadisticos = pd.Series([notas.min(), notas.max(), notas.mean(), notas.std()], \n",
    "                             index=['Minimo', 'Maximo', 'Media', 'Desviación típica'])\n",
    "    #describe todos los datos\n",
    "    estadisticos.describe()\n",
    "    #tipo de dato\n",
    "    print(type(estadisticos))\n",
    "    #retorna la\n",
    "    return estadisticos\n",
    "\n",
    "notas = {'Juan':9, 'María':6.5, 'Pedro':4, 'Carmen': 8.5, 'Luis': 5}\n",
    "print(estadistica_notas(notas))"
   ]
  },
  {
   "cell_type": "code",
   "execution_count": null,
   "id": "8c5a5c04-8d13-4f8f-a1f4-1975cf456481",
   "metadata": {},
   "outputs": [],
   "source": []
  }
 ],
 "metadata": {
  "kernelspec": {
   "display_name": "Python 3 (ipykernel)",
   "language": "python",
   "name": "python3"
  },
  "language_info": {
   "codemirror_mode": {
    "name": "ipython",
    "version": 3
   },
   "file_extension": ".py",
   "mimetype": "text/x-python",
   "name": "python",
   "nbconvert_exporter": "python",
   "pygments_lexer": "ipython3",
   "version": "3.12.9"
  }
 },
 "nbformat": 4,
 "nbformat_minor": 5
}
