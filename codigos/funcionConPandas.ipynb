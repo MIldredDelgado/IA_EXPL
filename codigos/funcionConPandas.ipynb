{
 "cells": [
  {
   "cell_type": "markdown",
   "metadata": {
    "id": "lo9OvuTMHsYU"
   },
   "source": [
    "# Ejercicio\n",
    "\n",
    "Escribir una función que reciba un diccionario con las notas de los alumno de un curso y devuelva una serie con la nota mínima, la máxima, media y la desviación típica."
   ]
  },
  {
   "cell_type": "markdown",
   "metadata": {
    "id": "xEyJZP2JHsYa"
   },
   "source": [
    "# Solución 1"
   ]
  },
  {
   "cell_type": "markdown",
   "metadata": {},
   "source": [
    "El código define la función estadistica_notas, que recibe un diccionario de notas donde las claves son los nombres de los estudiantes y los valores son sus calificaciones. Primero, convierte este diccionario en una Serie de Pandas, que es una estructura de datos unidimensional similar a un arreglo o lista, pero con índices asociados a cada valor. Luego, calcula cuatro estadísticas básicas sobre las notas: el mínimo (min()), el máximo (max()), la media (mean()) y la desviación estándar (std()). Estos valores se organizan en una nueva Serie, etiquetada con los índices 'Min', 'Max', 'Media' y 'Desviación típica', y finalmente, la función devuelve esta Serie con las estadísticas calculadas. Una Serie de Pandas permite manejar datos de manera eficiente, con acceso rápido a operaciones estadísticas y de manipulación de datos."
   ]
  },
  {
   "cell_type": "code",
   "execution_count": null,
   "metadata": {
    "id": "AbZ608OTHsYc",
    "outputId": "1ac7d34e-3835-4104-d968-4ffa4c2ad811"
   },
   "outputs": [
    {
     "name": "stdout",
     "output_type": "stream",
     "text": [
      "Min                  4.000000\n",
      "Max                  9.000000\n",
      "Media                6.600000\n",
      "Desviación típica    2.162175\n",
      "dtype: float64\n"
     ]
    }
   ],
   "source": [
    "import pandas as pd\n",
    "\n",
    "def estadistica_notas(notas):\n",
    "    notas = pd.Series(notas)\n",
    "    estadisticos = pd.Series([notas.min(), notas.max(), notas.mean(), notas.std()], index=['Min', 'Max', 'Media', 'Desviación típica'])\n",
    "    return estadisticos\n",
    "\n",
    "notas = {'Juan':9, 'María':6.5, 'Pedro':4, 'Carmen': 8.5, 'Luis': 5}\n",
    "print(estadistica_notas(notas))"
   ]
  },
  {
   "cell_type": "markdown",
   "metadata": {
    "id": "spkt4IjzHsYf"
   },
   "source": [
    "# Solución 2"
   ]
  },
  {
   "cell_type": "markdown",
   "metadata": {},
   "source": [
    "Este código importa la biblioteca Pandas y define una función llamada estadistica_notas, que toma un diccionario de notas como entrada. Primero, convierte este diccionario en una Serie de Pandas, que es una estructura de datos unidimensional similar a una lista, pero con índices asociados a cada valor. Luego, la función utiliza el método describe() de la Serie, que calcula varias estadísticas descriptivas como el número de elementos (count), el valor mínimo (min), el valor máximo (max), la media (mean), la desviación estándar (std), y los percentiles (25%, 50%, 75%). Finalmente, la función devuelve estas estadísticas. En el ejemplo proporcionado, el diccionario notas contiene las calificaciones de cinco estudiantes, y al llamar a la función, se imprimen las estadísticas descriptivas de estas notas."
   ]
  },
  {
   "cell_type": "code",
   "execution_count": null,
   "metadata": {
    "id": "M30Y5EVtHsYg",
    "outputId": "cba62973-b76f-4cb1-f083-7811f6efa438"
   },
   "outputs": [
    {
     "name": "stdout",
     "output_type": "stream",
     "text": [
      "count    5.000000\n",
      "mean     6.600000\n",
      "std      2.162175\n",
      "min      4.000000\n",
      "25%      5.000000\n",
      "50%      6.500000\n",
      "75%      8.500000\n",
      "max      9.000000\n",
      "dtype: float64\n"
     ]
    }
   ],
   "source": [
    "import pandas as pd\n",
    "\n",
    "def estadistica_notas(notas):\n",
    "    notas = pd.Series(notas)\n",
    "    return notas.describe()\n",
    "\n",
    "notas = {'Juan':9, 'María':6.5, 'Pedro':4, 'Carmen': 8.5, 'Luis': 5}\n",
    "print(estadistica_notas(notas))\n",
    "\n"
   ]
  }
 ],
 "metadata": {
  "colab": {
   "provenance": []
  },
  "kernelspec": {
   "display_name": "Python 3 (ipykernel)",
   "language": "python",
   "name": "python3"
  },
  "language_info": {
   "codemirror_mode": {
    "name": "ipython",
    "version": 3
   },
   "file_extension": ".py",
   "mimetype": "text/x-python",
   "name": "python",
   "nbconvert_exporter": "python",
   "pygments_lexer": "ipython3",
   "version": "3.12.9"
  }
 },
 "nbformat": 4,
 "nbformat_minor": 4
}
