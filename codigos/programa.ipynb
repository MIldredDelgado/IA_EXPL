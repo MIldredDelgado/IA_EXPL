{
 "cells": [
  {
   "cell_type": "markdown",
   "id": "db225732-2eab-462e-b203-dc008c68ef3b",
   "metadata": {},
   "source": [
    "## MI PRIMER PROGRAMA "
   ]
  },
  {
   "cell_type": "markdown",
   "id": "c699524e-78ea-4d5f-baea-532aca909b24",
   "metadata": {},
   "source": [
    "**ESTO ES UN EJEMPLO DE UN PROGRAMA**"
   ]
  },
  {
   "cell_type": "markdown",
   "id": "dd2ba367-8f35-40ed-9b79-1ff15b650e9f",
   "metadata": {},
   "source": [
    "### tipos de datos"
   ]
  },
  {
   "cell_type": "markdown",
   "id": "c59f5515-40d1-4fd9-b3b2-feecaedad659",
   "metadata": {},
   "source": [
    "print(\" Hola mundo \")"
   ]
  },
  {
   "cell_type": "markdown",
   "id": "75d95196-f48a-450b-9833-a63c650da565",
   "metadata": {},
   "source": [
    "cómo imprimir una cadena"
   ]
  },
  {
   "cell_type": "code",
   "execution_count": 2,
   "id": "a11960ed-2bfe-44e1-9fda-c54b82a824ac",
   "metadata": {},
   "outputs": [
    {
     "name": "stdout",
     "output_type": "stream",
     "text": [
      "¡Hola Mundo!\n"
     ]
    }
   ],
   "source": [
    "print(\"¡Hola Mundo!\")"
   ]
  },
  {
   "cell_type": "markdown",
   "id": "f252f4db-4dcf-4186-92d9-a8c27390743c",
   "metadata": {},
   "source": [
    "almacenar una cadena e imprimirla"
   ]
  },
  {
   "cell_type": "code",
   "execution_count": 3,
   "id": "23ba6a52-e1ef-4441-a39b-01c10092a52c",
   "metadata": {},
   "outputs": [
    {
     "name": "stdout",
     "output_type": "stream",
     "text": [
      "¡Hola Mundo!\n"
     ]
    }
   ],
   "source": [
    "mensaje = \"¡Hola Mundo!\"   #asi se crea una variable\n",
    "print(mensaje)      #asi se imprime la variable"
   ]
  },
  {
   "cell_type": "code",
   "execution_count": null,
   "id": "85eaee2d-b007-4a1c-8a3c-e0bfffdc585e",
   "metadata": {},
   "outputs": [],
   "source": [
    "recibir el valor de una variable por teclado, concatenarlo e imprimirlo"
   ]
  },
  {
   "cell_type": "code",
   "execution_count": 4,
   "id": "15e26043-3ef3-494d-bb11-99b90a33b4ec",
   "metadata": {},
   "outputs": [
    {
     "name": "stdin",
     "output_type": "stream",
     "text": [
      "Introduce tu nombre:  Maria\n"
     ]
    },
    {
     "name": "stdout",
     "output_type": "stream",
     "text": [
      "¡Hola Maria!\n"
     ]
    }
   ],
   "source": [
    "nombre = input(\"Introduce tu nombre: \")  #recibe un valor y lo almcanena en la variable nombre\n",
    "print(\"¡Hola \" + nombre + \"!\") #lo concatena e imprime"
   ]
  },
  {
   "cell_type": "markdown",
   "id": "5b3b91e0-f872-4e12-9d6d-ddcacf5370e2",
   "metadata": {},
   "source": [
    "verificar tipo de dato de una variable"
   ]
  },
  {
   "cell_type": "code",
   "execution_count": 5,
   "id": "174c427d-21e5-49b9-9087-edc5e5f1fe2d",
   "metadata": {},
   "outputs": [
    {
     "data": {
      "text/plain": [
       "int"
      ]
     },
     "execution_count": 5,
     "metadata": {},
     "output_type": "execute_result"
    }
   ],
   "source": [
    "type(2) #type verifica tipo de dato"
   ]
  },
  {
   "cell_type": "code",
   "execution_count": 6,
   "id": "cf6a6b1f-169b-4ec8-b95c-6ab93c03875f",
   "metadata": {},
   "outputs": [
    {
     "data": {
      "text/plain": [
       "str"
      ]
     },
     "execution_count": 6,
     "metadata": {},
     "output_type": "execute_result"
    }
   ],
   "source": [
    "type(mensaje)"
   ]
  },
  {
   "cell_type": "code",
   "execution_count": 8,
   "id": "67c1ce20-a3af-49c2-bd96-b8826a409d85",
   "metadata": {},
   "outputs": [
    {
     "data": {
      "text/plain": [
       "bool"
      ]
     },
     "execution_count": 8,
     "metadata": {},
     "output_type": "execute_result"
    }
   ],
   "source": [
    "type(True)"
   ]
  },
  {
   "cell_type": "markdown",
   "id": "eacd66e1-a365-4d96-bffc-d441b59a77e3",
   "metadata": {},
   "source": [
    "proceso de casteo, es decir cambio de tipo de dato"
   ]
  },
  {
   "cell_type": "code",
   "execution_count": 11,
   "id": "6c93b7ff-a361-40b9-b587-786835353a99",
   "metadata": {},
   "outputs": [
    {
     "name": "stdin",
     "output_type": "stream",
     "text": [
      "dame n 2\n"
     ]
    },
    {
     "data": {
      "text/plain": [
       "str"
      ]
     },
     "execution_count": 11,
     "metadata": {},
     "output_type": "execute_result"
    }
   ],
   "source": [
    "numero = input(\"dame n\") #input siempre retorna cadenas\n",
    "type(numero)"
   ]
  },
  {
   "cell_type": "code",
   "execution_count": 13,
   "id": "038278fc-f498-437f-b40d-04c6cd5ec019",
   "metadata": {},
   "outputs": [
    {
     "data": {
      "text/plain": [
       "int"
      ]
     },
     "execution_count": 13,
     "metadata": {},
     "output_type": "execute_result"
    }
   ],
   "source": [
    "numero= int(numero)  #cambiando de cadena a entero\n",
    "type(numero)"
   ]
  },
  {
   "cell_type": "code",
   "execution_count": 14,
   "id": "8b5ec032-6052-421f-b57f-57e6360ee918",
   "metadata": {},
   "outputs": [
    {
     "data": {
      "text/plain": [
       "4"
      ]
     },
     "execution_count": 14,
     "metadata": {},
     "output_type": "execute_result"
    }
   ],
   "source": [
    "numero + numero"
   ]
  },
  {
   "cell_type": "code",
   "execution_count": 17,
   "id": "978ccdea-e2f7-4e44-ae06-a4f23d73bba2",
   "metadata": {},
   "outputs": [
    {
     "data": {
      "text/plain": [
       "1"
      ]
     },
     "execution_count": 17,
     "metadata": {},
     "output_type": "execute_result"
    }
   ],
   "source": [
    "valor= int(True)\n",
    "valor"
   ]
  },
  {
   "cell_type": "markdown",
   "id": "9876b722-fe3d-493e-b7f1-7fd050795b13",
   "metadata": {},
   "source": [
    "ingresar por teclado el valor de las hora y numero de horas laboradas, seguidamente imprimir el coste total"
   ]
  },
  {
   "cell_type": "code",
   "execution_count": 18,
   "id": "8adbc8a9-9120-4d0a-aa2d-c052f965de58",
   "metadata": {},
   "outputs": [
    {
     "name": "stdin",
     "output_type": "stream",
     "text": [
      "precio hora 120\n",
      "dame horas laboradas 3\n"
     ]
    },
    {
     "name": "stdout",
     "output_type": "stream",
     "text": [
      "coste total 360.0\n"
     ]
    }
   ],
   "source": [
    "precioHora= float(input(\"precio hora\")) #recibe el valor de la hora y pasa a float\n",
    "numero_horas= float(input(\"dame horas laboradas\"))\n",
    "coste= precioHora * numero_horas\n",
    "print(\"coste total\" , coste) #la coma concatena diferente tipos de datos"
   ]
  },
  {
   "cell_type": "markdown",
   "id": "72d29204-5458-4674-8167-34df6487fdbb",
   "metadata": {},
   "source": [
    "### condicionales"
   ]
  },
  {
   "cell_type": "markdown",
   "id": "0e645db4-9df8-47e5-963f-2e98c74bda94",
   "metadata": {},
   "source": [
    "un programa que evalua si un usuario es mayor de edad, o no, o si tiene 18 años"
   ]
  },
  {
   "cell_type": "code",
   "execution_count": 34,
   "id": "5544e2fa-f883-40f6-9dba-9723847980c0",
   "metadata": {},
   "outputs": [
    {
     "name": "stdin",
     "output_type": "stream",
     "text": [
      "dame edad 12\n"
     ]
    },
    {
     "name": "stdout",
     "output_type": "stream",
     "text": [
      "tienes una edad menor que 18\n",
      "tu edad es  12\n"
     ]
    }
   ],
   "source": [
    "edad= int(input(\"dame edad\"))\n",
    "if  edad > 18:\n",
    "    if edad == 24:\n",
    "        print(\"tienes 24\")\n",
    "    else:\n",
    "        print(\"tienes mas de 18 pero no 24\")\n",
    "elif edad == 18:\n",
    "    print(\"tienes 18\")\n",
    "else:\n",
    "    print(\"tienes una edad menor que 18\")\n",
    "print(\"tu edad es \",  edad)"
   ]
  },
  {
   "cell_type": "markdown",
   "id": "01cd44f4-2eee-49ba-aada-6db01c30a2e7",
   "metadata": {},
   "source": [
    "Escribir un programa que pida al usuario un número entero y muestre por pantalla si es par o impar."
   ]
  },
  {
   "cell_type": "code",
   "execution_count": 39,
   "id": "2c0c8ac1-0cf1-4856-9f3c-deb08bd0e130",
   "metadata": {},
   "outputs": [
    {
     "name": "stdin",
     "output_type": "stream",
     "text": [
      "dame numero 45\n"
     ]
    },
    {
     "name": "stdout",
     "output_type": "stream",
     "text": [
      "es impar\n"
     ]
    }
   ],
   "source": [
    "val = int(input(\"dame numero\"))\n",
    "\n",
    "if val % 2 == 0:\n",
    "    print(\"es par\")\n",
    "else:\n",
    "    print(\"es impar\")\n",
    "\n",
    "    "
   ]
  },
  {
   "cell_type": "markdown",
   "id": "7542cf21-f75a-45be-b3b5-a575633698f5",
   "metadata": {},
   "source": [
    "## bucles"
   ]
  },
  {
   "cell_type": "markdown",
   "id": "a39f5690-972e-4a5b-bb8f-63e92866baf2",
   "metadata": {},
   "source": [
    "while: estrucutura de bucle que se repite hasta que se cumpla una condición"
   ]
  },
  {
   "cell_type": "markdown",
   "id": "6b5dcf39-a1ee-4a8a-aeee-e94cb07f35b6",
   "metadata": {},
   "source": [
    "edad = 18\n",
    "while edad < 24:\n",
    "    print(edad)\n",
    "    edad= int(input(\"edad\"))"
   ]
  },
  {
   "cell_type": "markdown",
   "id": "dd692d67-076b-4b15-b125-8e58382526bf",
   "metadata": {},
   "source": [
    "for in range:  se repite en el intervalo de un rango"
   ]
  },
  {
   "cell_type": "code",
   "execution_count": 48,
   "id": "0e523dce-af41-4b2c-9cf3-fec2c71d52a4",
   "metadata": {},
   "outputs": [
    {
     "name": "stdout",
     "output_type": "stream",
     "text": [
      "0 iteración número  0\n",
      "4 iteración número  2\n",
      "16 iteración número  4\n",
      "36 iteración número  6\n",
      "64 iteración número  8\n",
      "100 iteración número  10\n"
     ]
    }
   ],
   "source": [
    "for i in range(0, 11,2):\n",
    "    print((i ** 2), \"iteración número \", i)"
   ]
  },
  {
   "cell_type": "markdown",
   "id": "5039085d-e5b1-47f0-8c57-27cd61c5a689",
   "metadata": {},
   "source": [
    "## Listas"
   ]
  },
  {
   "cell_type": "code",
   "execution_count": null,
   "id": "cbf2525f-77c2-455b-94e2-9f8fc3c2c176",
   "metadata": {},
   "outputs": [],
   "source": [
    "escribir ujna lista de asignaturas"
   ]
  },
  {
   "cell_type": "code",
   "execution_count": 1,
   "id": "cfe7adb0-e888-436e-99ce-2dbbb04ac9b8",
   "metadata": {},
   "outputs": [
    {
     "name": "stdout",
     "output_type": "stream",
     "text": [
      "['sociales', 'inglés', 'castellano']\n"
     ]
    }
   ],
   "source": [
    "asignaturas= [\"sociales\", \"inglés\", \"castellano\"]\n",
    "print(asignaturas)"
   ]
  },
  {
   "cell_type": "code",
   "execution_count": 2,
   "id": "31ffad42-0061-4253-acd7-a1ce88bae4c9",
   "metadata": {},
   "outputs": [
    {
     "name": "stdout",
     "output_type": "stream",
     "text": [
      "['agua', 'arroz', 5000, 'platos', 'el tarro de la basura', 'cebolla', ['sociales', 'inglés', 'castellano']]\n"
     ]
    }
   ],
   "source": [
    "ingredientes= [\"agua\", \"arroz\", 5000, \"platos\",  \"el tarro de la basura\", \"cebolla\", asignaturas]\n",
    "print(ingredientes)\n"
   ]
  },
  {
   "cell_type": "markdown",
   "id": "8b8a9954-eed0-46cd-9bca-8033227676c5",
   "metadata": {},
   "source": [
    "recorrer una lista con for in"
   ]
  },
  {
   "cell_type": "markdown",
   "id": "f76d6ab9-3a8a-4d6b-bec2-44e9902d420a",
   "metadata": {},
   "source": [
    "for ingrediente in ingredientes:\n",
    "    if type(ingrediente) == list:\n",
    "        for i in ingrediente:\n",
    "            print(i)\n",
    "    else: \n",
    "        print(ingrediente)"
   ]
  },
  {
   "cell_type": "markdown",
   "id": "daf02768-6a01-418b-9614-7a4cfed57142",
   "metadata": {},
   "source": [
    "for ing in ingredientes:\n",
    "    print(ing)\n"
   ]
  },
  {
   "cell_type": "code",
   "execution_count": 12,
   "id": "f94ee9df-a172-49e9-93b9-9ef856380ab0",
   "metadata": {},
   "outputs": [
    {
     "data": {
      "text/plain": [
       "list"
      ]
     },
     "execution_count": 12,
     "metadata": {},
     "output_type": "execute_result"
    }
   ],
   "source": [
    "type(asignaturas)"
   ]
  },
  {
   "cell_type": "markdown",
   "id": "ee48fcb1-3020-433c-b8d7-37252dfe9e69",
   "metadata": {},
   "source": [
    "Escribir un programa que almacene las asignaturas de un curso (por ejemplo Matemáticas, Física, Química, Historia y Lengua) \n",
    "en una lista y la muestre por pantalla."
   ]
  },
  {
   "cell_type": "code",
   "execution_count": 15,
   "id": "7e20d6c4-80db-4f25-bb19-83438eed7aad",
   "metadata": {},
   "outputs": [
    {
     "name": "stdin",
     "output_type": "stream",
     "text": [
      "ingrese el valor de la materia mate 3.45\n",
      "ingrese el valor de la materia español 4\n",
      "ingrese el valor de la materia fisica 0\n"
     ]
    },
    {
     "name": "stdout",
     "output_type": "stream",
     "text": [
      "[3.45, 4.0, 0.0]\n"
     ]
    }
   ],
   "source": [
    "materias= [\"mate\", \"español\", \"fisica\"]\n",
    "puntaje= []\n",
    "\n",
    "for materia in materias:\n",
    "    score= float(input(\"ingrese el valor de la materia \" + materia))\n",
    "    puntaje.append(score) #añade un elemento a la lista por cola\n",
    "\n",
    "print(puntaje)\n"
   ]
  },
  {
   "cell_type": "code",
   "execution_count": 16,
   "id": "95d84126-1b3a-478f-8c39-08ce81967c7f",
   "metadata": {},
   "outputs": [
    {
     "name": "stdout",
     "output_type": "stream",
     "text": [
      "la materia  mate obtuvo un puntaje de  3.45\n",
      "la materia  español obtuvo un puntaje de  4.0\n",
      "la materia  fisica obtuvo un puntaje de  0.0\n"
     ]
    }
   ],
   "source": [
    "for i in range(0, len(materias)):  # len es el tamaño de la lista\n",
    "    print(\"la materia \" , materias[i], \"obtuvo un puntaje de \", puntaje[i])\n",
    "   \n",
    "    "
   ]
  },
  {
   "cell_type": "markdown",
   "id": "36e23a75-0c99-4fc2-a107-2f383c554766",
   "metadata": {},
   "source": [
    "## diccionario"
   ]
  },
  {
   "cell_type": "code",
   "execution_count": 25,
   "id": "81737bf2-7f4e-4eaa-b086-58698b520bf1",
   "metadata": {},
   "outputs": [
    {
     "name": "stdin",
     "output_type": "stream",
     "text": [
      "Introduce una divisa:  EURO\n"
     ]
    },
    {
     "name": "stdout",
     "output_type": "stream",
     "text": [
      "€\n"
     ]
    }
   ],
   "source": [
    "monedas = {'Euro':'€', 'Dollar':'$', 'Yen':'¥'}\n",
    "moneda = input(\"Introduce una divisa: \")\n",
    "if moneda.title() in monedas:\n",
    "    print(monedas[moneda.title()])\n",
    "else:\n",
    "    print(\"La divisa no está.\")"
   ]
  },
  {
   "cell_type": "code",
   "execution_count": 32,
   "id": "aa3c8d17-5e03-48ee-86fe-4a1306fe1c18",
   "metadata": {},
   "outputs": [
    {
     "name": "stdout",
     "output_type": "stream",
     "text": [
      "€\n",
      "$\n",
      "¥\n"
     ]
    }
   ],
   "source": [
    "for llave, valor  in monedas.items():\n",
    "    print(valor)\n",
    "    "
   ]
  },
  {
   "cell_type": "markdown",
   "id": "edff2939-85c7-4bcd-ab9e-32278ac0d719",
   "metadata": {},
   "source": [
    "Escribir un programa que cree un diccionario vacío y lo vaya llenado con información sobre una persona (por ejemplo nombre, edad, sexo, teléfono, correo electrónico, etc.) que se le pida al usuario. Cada vez que se añada un nuevo dato debe imprimirse el contenido del diccionario."
   ]
  },
  {
   "cell_type": "code",
   "execution_count": 34,
   "id": "ce27f511-11e4-46d6-a7b7-4f5f32766489",
   "metadata": {},
   "outputs": [
    {
     "name": "stdin",
     "output_type": "stream",
     "text": [
      "¿Qué dato quieres introducir?  edad\n",
      "edad:  12\n"
     ]
    },
    {
     "name": "stdout",
     "output_type": "stream",
     "text": [
      "{'edad': '12'}\n"
     ]
    },
    {
     "name": "stdin",
     "output_type": "stream",
     "text": [
      "¿Quieres añadir más información (Si/No)?  Si\n",
      "¿Qué dato quieres introducir?  nombre\n",
      "nombre:  Juana\n"
     ]
    },
    {
     "name": "stdout",
     "output_type": "stream",
     "text": [
      "{'edad': '12', 'nombre': 'Juana'}\n"
     ]
    },
    {
     "name": "stdin",
     "output_type": "stream",
     "text": [
      "¿Quieres añadir más información (Si/No)?  Si\n",
      "¿Qué dato quieres introducir?  apellido\n",
      "apellido:  Henao\n"
     ]
    },
    {
     "name": "stdout",
     "output_type": "stream",
     "text": [
      "{'edad': '12', 'nombre': 'Juana', 'apellido': 'Henao'}\n"
     ]
    },
    {
     "name": "stdin",
     "output_type": "stream",
     "text": [
      "¿Quieres añadir más información (Si/No)?  No\n"
     ]
    }
   ],
   "source": [
    "persona = {} #dict vacio \n",
    "continuar = True\n",
    "while continuar:\n",
    "    clave = input('¿Qué dato quieres introducir? ')\n",
    "    valor = input(clave + ': ')\n",
    "    persona[clave] = valor\n",
    "    print(persona)\n",
    "    continuar = input('¿Quieres añadir más información (Si/No)? ') == \"Si\""
   ]
  },
  {
   "cell_type": "code",
   "execution_count": 35,
   "id": "56cc6424-134b-48c5-b95a-6b9ab01a2203",
   "metadata": {},
   "outputs": [
    {
     "data": {
      "text/plain": [
       "{'edad': '12', 'nombre': 'Juana', 'apellido': 'Henao'}"
      ]
     },
     "execution_count": 35,
     "metadata": {},
     "output_type": "execute_result"
    }
   ],
   "source": [
    "persona"
   ]
  },
  {
   "cell_type": "code",
   "execution_count": 36,
   "id": "faa817a7-f84d-4f7b-8096-771bf0782ab2",
   "metadata": {},
   "outputs": [
    {
     "ename": "TypeError",
     "evalue": "Kernel.raw_input() takes from 1 to 2 positional arguments but 3 were given",
     "output_type": "error",
     "traceback": [
      "\u001b[31m---------------------------------------------------------------------------\u001b[39m",
      "\u001b[31mTypeError\u001b[39m                                 Traceback (most recent call last)",
      "\u001b[36mCell\u001b[39m\u001b[36m \u001b[39m\u001b[32mIn[36]\u001b[39m\u001b[32m, line 3\u001b[39m\n\u001b[32m      1\u001b[39m lista=[]\n\u001b[32m      2\u001b[39m \u001b[38;5;28;01mfor\u001b[39;00m i \u001b[38;5;129;01min\u001b[39;00m \u001b[38;5;28mrange\u001b[39m(\u001b[32m0\u001b[39m,\u001b[32m4\u001b[39m):\n\u001b[32m----> \u001b[39m\u001b[32m3\u001b[39m     lista[i]= \u001b[38;5;28minput\u001b[39m(\u001b[33m\"\u001b[39m\u001b[33mingrese el dato\u001b[39m\u001b[33m\"\u001b[39m, i)\n\u001b[32m      4\u001b[39m lista\n",
      "\u001b[31mTypeError\u001b[39m: Kernel.raw_input() takes from 1 to 2 positional arguments but 3 were given"
     ]
    }
   ],
   "source": [
    "\n"
   ]
  },
  {
   "cell_type": "code",
   "execution_count": null,
   "id": "657eb229-ce7f-4eec-86df-0fe19c82263f",
   "metadata": {},
   "outputs": [],
   "source": []
  }
 ],
 "metadata": {
  "kernelspec": {
   "display_name": "Python 3 (ipykernel)",
   "language": "python",
   "name": "python3"
  },
  "language_info": {
   "codemirror_mode": {
    "name": "ipython",
    "version": 3
   },
   "file_extension": ".py",
   "mimetype": "text/x-python",
   "name": "python",
   "nbconvert_exporter": "python",
   "pygments_lexer": "ipython3",
   "version": "3.12.9"
  }
 },
 "nbformat": 4,
 "nbformat_minor": 5
}
